{
 "cells": [
  {
   "cell_type": "code",
   "execution_count": 1,
   "metadata": {
    "collapsed": true,
    "ExecuteTime": {
     "start_time": "2023-10-20T03:30:13.599758Z",
     "end_time": "2023-10-20T03:30:15.309176Z"
    }
   },
   "outputs": [],
   "source": [
    "import math\n",
    "from web3 import Web3, AsyncWeb3\n",
    "from web3 import eth\n",
    "import abi as abi_import\n",
    "import time\n",
    "from datetime import datetime"
   ]
  },
  {
   "cell_type": "code",
   "execution_count": 8,
   "outputs": [
    {
     "data": {
      "text/plain": "True"
     },
     "execution_count": 8,
     "metadata": {},
     "output_type": "execute_result"
    }
   ],
   "source": [
    "w3 = Web3(Web3.HTTPProvider('https://eth-mainnet.g.alchemy.com/v2/HsRAh-rTKhWRIzJAVCfUU3VXFqilsfLf'))\n",
    "w3.is_connected()"
   ],
   "metadata": {
    "collapsed": false,
    "ExecuteTime": {
     "start_time": "2023-10-20T03:54:55.991130Z",
     "end_time": "2023-10-20T03:54:56.335506Z"
    }
   }
  },
  {
   "cell_type": "code",
   "execution_count": 42,
   "outputs": [],
   "source": [
    "sy_addr = '0xED97f94dd94255637A054098604E0201C442a3FD'\n",
    "sy_abi = abi_import.sy_token_abi\n",
    "\n",
    "mkt_abi = abi_import.mkt\n",
    "mkt_addr = '0xC9beCdbC62efb867cB52222b34c187fB170379C6'\n"
   ],
   "metadata": {
    "collapsed": false,
    "ExecuteTime": {
     "start_time": "2023-10-17T12:47:17.469764Z",
     "end_time": "2023-10-17T12:47:17.484886Z"
    }
   }
  },
  {
   "cell_type": "code",
   "execution_count": 43,
   "outputs": [],
   "source": [
    "contract_instance = w3.eth.contract(address=mkt_addr, abi=mkt_abi)"
   ],
   "metadata": {
    "collapsed": false,
    "ExecuteTime": {
     "start_time": "2023-10-17T12:47:17.687254Z",
     "end_time": "2023-10-17T12:47:17.720320Z"
    }
   }
  },
  {
   "cell_type": "code",
   "execution_count": 44,
   "outputs": [],
   "source": [
    "mkt_data = contract_instance.functions._storage().call()"
   ],
   "metadata": {
    "collapsed": false,
    "ExecuteTime": {
     "start_time": "2023-10-17T12:47:17.896817Z",
     "end_time": "2023-10-17T12:47:17.993595Z"
    }
   }
  },
  {
   "cell_type": "code",
   "execution_count": 45,
   "outputs": [],
   "source": [
    "total_pt = mkt_data[0]\n",
    "total_sy = mkt_data[1]\n",
    "impliedRate = mkt_data[2]"
   ],
   "metadata": {
    "collapsed": false,
    "ExecuteTime": {
     "start_time": "2023-10-17T12:47:18.070065Z",
     "end_time": "2023-10-17T12:47:18.100965Z"
    }
   }
  },
  {
   "cell_type": "code",
   "execution_count": 46,
   "outputs": [],
   "source": [
    "pt_eth =  float(Web3.from_wei(total_pt, 'ether'))\n",
    "sy_eth =  float(Web3.from_wei(total_sy, 'ether'))"
   ],
   "metadata": {
    "collapsed": false,
    "ExecuteTime": {
     "start_time": "2023-10-17T12:47:18.188891Z",
     "end_time": "2023-10-17T12:47:18.217968Z"
    }
   }
  },
  {
   "cell_type": "markdown",
   "source": [],
   "metadata": {
    "collapsed": false
   }
  },
  {
   "cell_type": "code",
   "execution_count": 47,
   "outputs": [],
   "source": [
    "pt_ratio = pt_eth / (pt_eth + sy_eth)\n",
    "px_ratio = pt_ratio / (1-pt_ratio)"
   ],
   "metadata": {
    "collapsed": false,
    "ExecuteTime": {
     "start_time": "2023-10-17T12:47:18.472467Z",
     "end_time": "2023-10-17T12:47:18.514526Z"
    }
   }
  },
  {
   "cell_type": "code",
   "execution_count": 48,
   "outputs": [],
   "source": [
    "ln_lastImpliedRate = float(Web3.from_wei(impliedRate, 'ether'))\n",
    "lastImpliedRate = math.exp(ln_lastImpliedRate)"
   ],
   "metadata": {
    "collapsed": false,
    "ExecuteTime": {
     "start_time": "2023-10-17T12:47:18.640178Z",
     "end_time": "2023-10-17T12:47:18.680998Z"
    }
   }
  },
  {
   "cell_type": "code",
   "execution_count": 49,
   "outputs": [],
   "source": [
    "scalar_root =  contract_instance.functions.scalarRoot().call()"
   ],
   "metadata": {
    "collapsed": false,
    "ExecuteTime": {
     "start_time": "2023-10-17T12:47:18.806216Z",
     "end_time": "2023-10-17T12:47:18.978861Z"
    }
   }
  },
  {
   "cell_type": "code",
   "execution_count": 50,
   "outputs": [],
   "source": [
    "initAnchor = contract_instance.functions.initialAnchor().call()"
   ],
   "metadata": {
    "collapsed": false,
    "ExecuteTime": {
     "start_time": "2023-10-17T12:47:18.951581Z",
     "end_time": "2023-10-17T12:47:19.121560Z"
    }
   }
  },
  {
   "cell_type": "code",
   "execution_count": 51,
   "outputs": [],
   "source": [
    "initAnchor_eth = float(Web3.from_wei(initAnchor, 'ether'))\n",
    "scalar_root_eth = float(Web3.from_wei(scalar_root, 'ether'))"
   ],
   "metadata": {
    "collapsed": false,
    "ExecuteTime": {
     "start_time": "2023-10-17T12:47:19.101158Z",
     "end_time": "2023-10-17T12:47:19.178959Z"
    }
   }
  },
  {
   "cell_type": "code",
   "execution_count": 52,
   "outputs": [
    {
     "data": {
      "text/plain": "1697008751.0"
     },
     "execution_count": 52,
     "metadata": {},
     "output_type": "execute_result"
    }
   ],
   "source": [
    "startTime = datetime(2023, 10, 11, 3, 19, 11).timestamp()\n",
    "startTime"
   ],
   "metadata": {
    "collapsed": false,
    "ExecuteTime": {
     "start_time": "2023-10-17T12:47:19.223457Z",
     "end_time": "2023-10-17T12:47:19.334097Z"
    }
   }
  },
  {
   "cell_type": "code",
   "execution_count": 53,
   "outputs": [],
   "source": [
    "expiry = contract_instance.functions.expiry().call()\n",
    "unixYear = 31556926"
   ],
   "metadata": {
    "collapsed": false,
    "ExecuteTime": {
     "start_time": "2023-10-17T12:47:19.372054Z",
     "end_time": "2023-10-17T12:47:19.455276Z"
    }
   }
  },
  {
   "cell_type": "code",
   "execution_count": 54,
   "outputs": [
    {
     "data": {
      "text/plain": "0.4618716347720307"
     },
     "execution_count": 54,
     "metadata": {},
     "output_type": "execute_result"
    }
   ],
   "source": [
    "(expiry - startTime) / unixYear"
   ],
   "metadata": {
    "collapsed": false,
    "ExecuteTime": {
     "start_time": "2023-10-17T12:47:19.487935Z",
     "end_time": "2023-10-17T12:47:19.549198Z"
    }
   }
  },
  {
   "cell_type": "code",
   "execution_count": 16,
   "outputs": [
    {
     "data": {
      "text/plain": "1711584000"
     },
     "execution_count": 16,
     "metadata": {},
     "output_type": "execute_result"
    }
   ],
   "source": [
    "expiry"
   ],
   "metadata": {
    "collapsed": false,
    "ExecuteTime": {
     "start_time": "2023-10-17T12:47:19.664326Z",
     "end_time": "2023-10-17T12:47:19.718577Z"
    }
   }
  },
  {
   "cell_type": "code",
   "execution_count": 65,
   "outputs": [
    {
     "data": {
      "text/plain": "0.44222526134814777"
     },
     "execution_count": 65,
     "metadata": {},
     "output_type": "execute_result"
    }
   ],
   "source": [
    "(expiry - time.time() )/unixYear *"
   ],
   "metadata": {
    "collapsed": false
   }
  },
  {
   "cell_type": "code",
   "execution_count": 69,
   "outputs": [
    {
     "data": {
      "text/plain": "1.0408449884500444"
     },
     "execution_count": 69,
     "metadata": {},
     "output_type": "execute_result"
    }
   ],
   "source": [
    "1.09475**(0.442225)"
   ],
   "metadata": {
    "collapsed": false
   }
  },
  {
   "cell_type": "code",
   "execution_count": 76,
   "outputs": [
    {
     "data": {
      "text/plain": "0.8911054594547272"
     },
     "execution_count": 76,
     "metadata": {},
     "output_type": "execute_result"
    }
   ],
   "source": [
    "0.002583945**0.01934945"
   ],
   "metadata": {
    "collapsed": false
   }
  },
  {
   "cell_type": "code",
   "execution_count": 74,
   "outputs": [
    {
     "data": {
      "text/plain": "0.1335406599653738"
     },
     "execution_count": 74,
     "metadata": {},
     "output_type": "execute_result"
    }
   ],
   "source": [
    "(0.002583945 / 7.06721138) * 365.24"
   ],
   "metadata": {
    "collapsed": false
   }
  },
  {
   "cell_type": "code",
   "execution_count": 86,
   "outputs": [
    {
     "data": {
      "text/plain": "[AttributeDict({'address': '0xB80449Bfa2BEb90E22582f5Af99E64C8cf762E1d',\n  'amount': 16627997,\n  'index': 21440262,\n  'validatorIndex': 395400}),\n AttributeDict({'address': '0x016a4499Fef3fFcb01d12656e8B68bD79867BF48',\n  'amount': 16851168,\n  'index': 21440263,\n  'validatorIndex': 395401}),\n AttributeDict({'address': '0xB9D7934878B5FB9610B3fE8A5e441e8fad7E293f',\n  'amount': 16872246,\n  'index': 21440264,\n  'validatorIndex': 395403}),\n AttributeDict({'address': '0xB9D7934878B5FB9610B3fE8A5e441e8fad7E293f',\n  'amount': 16856896,\n  'index': 21440265,\n  'validatorIndex': 395404}),\n AttributeDict({'address': '0xB9D7934878B5FB9610B3fE8A5e441e8fad7E293f',\n  'amount': 16826424,\n  'index': 21440266,\n  'validatorIndex': 395405}),\n AttributeDict({'address': '0xB9D7934878B5FB9610B3fE8A5e441e8fad7E293f',\n  'amount': 16847363,\n  'index': 21440267,\n  'validatorIndex': 395406}),\n AttributeDict({'address': '0xb347DA2537B294C59Af8D3c9AAcc2d312092784B',\n  'amount': 16895414,\n  'index': 21440268,\n  'validatorIndex': 395407}),\n AttributeDict({'address': '0xA46E15Be1Ec7b0daa351316367A0E5fba4B639d8',\n  'amount': 16756513,\n  'index': 21440269,\n  'validatorIndex': 395408}),\n AttributeDict({'address': '0x2296e122c1a20Fca3CAc3371357BdAd3be0dF079',\n  'amount': 16904688,\n  'index': 21440270,\n  'validatorIndex': 395409}),\n AttributeDict({'address': '0xb347DA2537B294C59Af8D3c9AAcc2d312092784B',\n  'amount': 57638072,\n  'index': 21440271,\n  'validatorIndex': 395410}),\n AttributeDict({'address': '0xb347DA2537B294C59Af8D3c9AAcc2d312092784B',\n  'amount': 16855501,\n  'index': 21440272,\n  'validatorIndex': 395411}),\n AttributeDict({'address': '0xb347DA2537B294C59Af8D3c9AAcc2d312092784B',\n  'amount': 16887380,\n  'index': 21440273,\n  'validatorIndex': 395412}),\n AttributeDict({'address': '0xb347DA2537B294C59Af8D3c9AAcc2d312092784B',\n  'amount': 16850209,\n  'index': 21440274,\n  'validatorIndex': 395413}),\n AttributeDict({'address': '0x7e2a2FA2a064F693f0a55C5639476d913Ff12D05',\n  'amount': 16841826,\n  'index': 21440275,\n  'validatorIndex': 395414}),\n AttributeDict({'address': '0x145e3E2a99Ed9BdcCb7846AEA356b62C608399Ea',\n  'amount': 16820672,\n  'index': 21440276,\n  'validatorIndex': 395415}),\n AttributeDict({'address': '0x0183a4Ab3f5F787D82ac99aed60B38f53b9C5981',\n  'amount': 16871981,\n  'index': 21440277,\n  'validatorIndex': 395416})]"
     },
     "execution_count": 86,
     "metadata": {},
     "output_type": "execute_result"
    }
   ],
   "source": [
    "w3.eth.get_block(18374977)['withdrawals']\n"
   ],
   "metadata": {
    "collapsed": false
   }
  },
  {
   "cell_type": "code",
   "execution_count": 87,
   "outputs": [
    {
     "name": "stdout",
     "output_type": "stream",
     "text": [
      "310204350\n"
     ]
    }
   ],
   "source": [
    "sum = 0\n",
    "for item in withd:\n",
    "    sum = sum + item['amount']\n",
    "\n",
    "print(sum)"
   ],
   "metadata": {
    "collapsed": false
   }
  },
  {
   "cell_type": "code",
   "execution_count": 89,
   "outputs": [
    {
     "data": {
      "text/plain": "Decimal('96.29877269173002486555342926')"
     },
     "execution_count": 89,
     "metadata": {},
     "output_type": "execute_result"
    }
   ],
   "source": [
    "310204350/Web3.from_wei(3221270025870639398245293,'ether')"
   ],
   "metadata": {
    "collapsed": false
   }
  },
  {
   "cell_type": "code",
   "execution_count": 17,
   "outputs": [],
   "source": [
    "def update_now():\n",
    "    return time.time()\n",
    "\n",
    "def rateScalar(nowTime):\n",
    "    return scalar_root_eth / (nowTime / unixYear)\n",
    "\n",
    "def yrsLeft(nowTime):\n",
    "    return (expiry - nowTime) / unixYear\n",
    "\n",
    "def rateAnchor(nowTime):\n",
    "    return lastImpliedRate**yrsLeft(nowTime) - (math.log(pt_ratio/(1-pt_ratio))) / rateScalar(nowTime)"
   ],
   "metadata": {
    "collapsed": false,
    "ExecuteTime": {
     "start_time": "2023-10-17T12:47:19.770864Z",
     "end_time": "2023-10-17T12:47:19.795322Z"
    }
   }
  },
  {
   "cell_type": "code",
   "execution_count": 18,
   "outputs": [],
   "source": [
    "rtScalar = rateScalar(update_now())\n",
    "rtAnchor = rateAnchor(update_now())"
   ],
   "metadata": {
    "collapsed": false,
    "ExecuteTime": {
     "start_time": "2023-10-17T12:47:19.905788Z",
     "end_time": "2023-10-17T12:47:19.932972Z"
    }
   }
  },
  {
   "cell_type": "code",
   "execution_count": 19,
   "outputs": [],
   "source": [
    "exchange_rt_px = ((math.log(pt_ratio/(1-pt_ratio))) / rtScalar) + rtAnchor"
   ],
   "metadata": {
    "collapsed": false,
    "ExecuteTime": {
     "start_time": "2023-10-17T12:47:20.027619Z",
     "end_time": "2023-10-17T12:47:20.043747Z"
    }
   }
  },
  {
   "cell_type": "code",
   "execution_count": 20,
   "outputs": [],
   "source": [
    "pt_price = 1 / exchange_rt_px\n",
    "sy_price = pt_price * ((lastImpliedRate)**(yrsLeft(update_now())) - 1)"
   ],
   "metadata": {
    "collapsed": false,
    "ExecuteTime": {
     "start_time": "2023-10-17T12:47:20.509894Z",
     "end_time": "2023-10-17T12:47:20.572841Z"
    }
   }
  },
  {
   "cell_type": "code",
   "execution_count": 21,
   "outputs": [
    {
     "ename": "NameError",
     "evalue": "name 'silo' is not defined",
     "output_type": "error",
     "traceback": [
      "\u001B[0;31m---------------------------------------------------------------------------\u001B[0m",
      "\u001B[0;31mNameError\u001B[0m                                 Traceback (most recent call last)",
      "Cell \u001B[0;32mIn[21], line 5\u001B[0m\n\u001B[1;32m      3\u001B[0m siloYield \u001B[38;5;241m=\u001B[39m \u001B[38;5;124m'\u001B[39m\u001B[38;5;124m0x96eFdF95Cc47fe90e8f63D2f5Ef9FB8B180dAeB9\u001B[39m\u001B[38;5;124m'\u001B[39m\n\u001B[1;32m      4\u001B[0m yieldToken \u001B[38;5;241m=\u001B[39m \u001B[38;5;124m'\u001B[39m\u001B[38;5;124m0xD533a949740bb3306d119CC777fa900bA034cd52\u001B[39m\u001B[38;5;124m'\u001B[39m \u001B[38;5;66;03m# crv\u001B[39;00m\n\u001B[0;32m----> 5\u001B[0m silo_contract \u001B[38;5;241m=\u001B[39m w3\u001B[38;5;241m.\u001B[39meth\u001B[38;5;241m.\u001B[39mcontract(address\u001B[38;5;241m=\u001B[39msilo_addr, abi\u001B[38;5;241m=\u001B[39m\u001B[43msilo\u001B[49m)\n",
      "\u001B[0;31mNameError\u001B[0m: name 'silo' is not defined"
     ]
    }
   ],
   "source": [
    "\n",
    "\n",
    "\n",
    "silo_addr = '0x32a4Bcd8DEa5E18a12a50584682f8E4B77fFF2DF'\n",
    "\n",
    "siloYield = '0x96eFdF95Cc47fe90e8f63D2f5Ef9FB8B180dAeB9'\n",
    "yieldToken = '0xD533a949740bb3306d119CC777fa900bA034cd52' # crv\n",
    "silo_contract = w3.eth.contract(address=silo_addr, abi=silo)\n"
   ],
   "metadata": {
    "collapsed": false,
    "ExecuteTime": {
     "start_time": "2023-10-17T12:47:20.549939Z",
     "end_time": "2023-10-17T12:47:20.653510Z"
    }
   }
  },
  {
   "cell_type": "code",
   "execution_count": null,
   "outputs": [],
   "source": [
    "borrowAPY = silo_contract.functions.borrowAPY(siloYield, yieldToken).call()"
   ],
   "metadata": {
    "collapsed": false,
    "ExecuteTime": {
     "start_time": "2023-10-17T12:47:20.597133Z",
     "end_time": "2023-10-17T12:47:20.854949Z"
    }
   }
  },
  {
   "cell_type": "code",
   "execution_count": null,
   "outputs": [],
   "source": [
    "borrowAPY_eth = float(Web3.from_wei(borrowAPY, 'ether'))\n",
    "borrowAPY_eth"
   ],
   "metadata": {
    "collapsed": false,
    "ExecuteTime": {
     "start_time": "2023-10-17T12:47:20.698846Z",
     "end_time": "2023-10-17T12:47:20.855843Z"
    }
   }
  },
  {
   "cell_type": "code",
   "execution_count": null,
   "outputs": [],
   "source": [
    "depositAPY = silo_contract.functions.depositAPY(siloYield, yieldToken).call()\n",
    "depositAPY_eth = float(Web3.from_wei(depositAPY, 'ether'))\n",
    "depositAPY_eth"
   ],
   "metadata": {
    "collapsed": false,
    "ExecuteTime": {
     "start_time": "2023-10-17T12:47:20.705537Z",
     "end_time": "2023-10-17T12:47:20.936225Z"
    }
   }
  },
  {
   "cell_type": "code",
   "execution_count": null,
   "outputs": [],
   "source": [
    "util = silo_contract.functions.getUtilization(siloYield, yieldToken).call()\n",
    "util_eth = float(Web3.from_wei(util,'ether'))\n",
    "util_eth"
   ],
   "metadata": {
    "collapsed": false,
    "ExecuteTime": {
     "start_time": "2023-10-17T12:47:20.801286Z",
     "end_time": "2023-10-17T12:47:21.309662Z"
    }
   }
  },
  {
   "cell_type": "code",
   "execution_count": null,
   "outputs": [],
   "source": [
    "liq = silo_contract.functions.liquidity(siloYield, yieldToken).call()\n",
    "liq_eth = float(Web3.from_wei(liq,'ether'))\n",
    "liq_eth"
   ],
   "metadata": {
    "collapsed": false,
    "ExecuteTime": {
     "start_time": "2023-10-17T12:47:20.905175Z",
     "end_time": "2023-10-17T12:47:21.312696Z"
    }
   }
  },
  {
   "cell_type": "code",
   "execution_count": null,
   "outputs": [],
   "source": [
    "borrow = silo_contract.functions.totalBorrowAmount(siloYield, yieldToken).call()\n",
    "borrow_eth = float(Web3.from_wei(borrow,'ether'))\n",
    "borrow_eth"
   ],
   "metadata": {
    "collapsed": false,
    "ExecuteTime": {
     "start_time": "2023-10-17T12:47:21.008375Z",
     "end_time": "2023-10-17T12:47:21.663719Z"
    }
   }
  },
  {
   "cell_type": "code",
   "execution_count": null,
   "outputs": [],
   "source": [
    "deposits = silo_contract.functions.totalDeposits(siloYield, yieldToken).call()\n",
    "deposits_eth = float(Web3.from_wei(deposits,'ether'))\n",
    "deposits_eth"
   ],
   "metadata": {
    "collapsed": false,
    "ExecuteTime": {
     "start_time": "2023-10-17T12:47:21.112051Z",
     "end_time": "2023-10-17T12:47:21.915928Z"
    }
   }
  },
  {
   "cell_type": "code",
   "execution_count": null,
   "outputs": [],
   "source": [
    "crvUSD = '0xf939E0A03FB07F59A73314E73794Be0E57ac1b4E'\n",
    "\n",
    "borrowAPY_crvUSD = float(Web3.from_wei(silo_contract.functions.borrowAPY(siloYield, crvUSD).call(), 'ether'))\n",
    "depositAPY_crvUSD = float(Web3.from_wei(silo_contract.functions.depositAPY(siloYield, crvUSD).call(), 'ether'))\n",
    "util_crvUSD = float(Web3.from_wei(silo_contract.functions.getUtilization(siloYield, crvUSD).call(), 'ether'))\n",
    "\n",
    "liq_crvUSD= float(Web3.from_wei(silo_contract.functions.liquidity(siloYield, crvUSD).call(), 'ether'))\n",
    "\n",
    "borrow_crvUSD = float(Web3.from_wei(silo_contract.functions.totalBorrowAmount(siloYield, crvUSD).call(), 'ether'))\n",
    "\n",
    "deposits_crvUSD = float(Web3.from_wei(silo_contract.functions.totalDeposits(siloYield, crvUSD).call(), 'ether'))"
   ],
   "metadata": {
    "collapsed": false,
    "ExecuteTime": {
     "start_time": "2023-10-17T12:47:21.233809Z",
     "end_time": "2023-10-17T12:47:22.756627Z"
    }
   }
  },
  {
   "cell_type": "code",
   "execution_count": null,
   "outputs": [],
   "source": [
    "print(\"borrow apy: \", borrowAPY_crvUSD)\n",
    "print(\"deposit apy: \", depositAPY_crvUSD)\n",
    "print(\"util: \", util_crvUSD)\n",
    "print(\"liq: \", liq_crvUSD)\n",
    "print(\"borrows: \", borrow_crvUSD)\n",
    "print(\"deposits: \", deposits_crvUSD)"
   ],
   "metadata": {
    "collapsed": false,
    "ExecuteTime": {
     "start_time": "2023-10-17T12:47:21.795025Z",
     "end_time": "2023-10-17T12:47:22.757005Z"
    }
   }
  },
  {
   "cell_type": "code",
   "execution_count": null,
   "outputs": [],
   "source": [
    "interestRateModel = silo_contract.functions.getModel(siloYield, crvUSD).call()"
   ],
   "metadata": {
    "collapsed": false,
    "ExecuteTime": {
     "start_time": "2023-10-17T12:47:21.799880Z",
     "end_time": "2023-10-17T12:47:22.781797Z"
    }
   }
  },
  {
   "cell_type": "code",
   "execution_count": null,
   "outputs": [],
   "source": [
    "\n",
    "model_contract = w3.eth.contract(address=interestRateModel, abi=model_abi)"
   ],
   "metadata": {
    "collapsed": false,
    "ExecuteTime": {
     "start_time": "2023-10-17T12:47:21.902946Z",
     "end_time": "2023-10-17T12:47:22.781797Z"
    }
   }
  },
  {
   "cell_type": "code",
   "execution_count": null,
   "outputs": [],
   "source": [
    "dp = model_contract.functions.DP().call()\n",
    "rcomp_max = model_contract.functions.RCOMP_MAX().call()\n",
    "x_max = model_contract.functions.X_MAX().call()\n"
   ],
   "metadata": {
    "collapsed": false,
    "ExecuteTime": {
     "start_time": "2023-10-17T12:47:21.922758Z",
     "end_time": "2023-10-17T12:47:22.812737Z"
    }
   }
  },
  {
   "cell_type": "code",
   "execution_count": null,
   "outputs": [],
   "source": [
    "config = model_contract.functions.getConfig(siloYield, crvUSD).call()"
   ],
   "metadata": {
    "collapsed": false,
    "ExecuteTime": {
     "start_time": "2023-10-17T12:47:22.200700Z",
     "end_time": "2023-10-17T12:47:22.830332Z"
    }
   }
  },
  {
   "cell_type": "code",
   "execution_count": 22,
   "outputs": [
    {
     "name": "stderr",
     "output_type": "stream",
     "text": [
      "UsageError: Invalid config statement: '# upot, ucrit, ulow, ki, kcrit, klow, klin, beta, ri, Tcrit', should be `Class.trait = value`.\n"
     ]
    }
   ],
   "source": [
    "config # upot, ucrit, ulow, ki, kcrit, klow, klin, beta, ri, Tcrit"
   ],
   "metadata": {
    "collapsed": false,
    "ExecuteTime": {
     "start_time": "2023-10-17T12:47:22.289109Z",
     "end_time": "2023-10-17T12:47:22.830685Z"
    }
   }
  },
  {
   "cell_type": "code",
   "execution_count": 23,
   "outputs": [
    {
     "ename": "NameError",
     "evalue": "name 'config' is not defined",
     "output_type": "error",
     "traceback": [
      "\u001B[0;31m---------------------------------------------------------------------------\u001B[0m",
      "\u001B[0;31mNameError\u001B[0m                                 Traceback (most recent call last)",
      "Cell \u001B[0;32mIn[23], line 1\u001B[0m\n\u001B[0;32m----> 1\u001B[0m uopt \u001B[38;5;241m=\u001B[39m \u001B[43mconfig\u001B[49m[\u001B[38;5;241m0\u001B[39m]\n\u001B[1;32m      2\u001B[0m ucrit \u001B[38;5;241m=\u001B[39m config[\u001B[38;5;241m1\u001B[39m]\n\u001B[1;32m      3\u001B[0m ulow \u001B[38;5;241m=\u001B[39m config[\u001B[38;5;241m2\u001B[39m]\n",
      "\u001B[0;31mNameError\u001B[0m: name 'config' is not defined"
     ]
    }
   ],
   "source": [
    "uopt = config[0]\n",
    "ucrit = config[1]\n",
    "ulow = config[2]\n",
    "ki = config[3]\n",
    "kcrit = config[4]\n",
    "klow = config[5]\n",
    "klin = config[6]\n",
    "beta = config[7]\n",
    "ri = config[8]\n",
    "Tcrit = config[9]\n",
    "\n",
    "config_tuple = (uopt, ucrit, ulow, ki, kcrit, klow, klin, beta, ri, Tcrit)"
   ],
   "metadata": {
    "collapsed": false,
    "ExecuteTime": {
     "start_time": "2023-10-17T12:47:22.299681Z",
     "end_time": "2023-10-17T12:47:22.834674Z"
    }
   }
  },
  {
   "cell_type": "code",
   "execution_count": 24,
   "outputs": [
    {
     "ename": "NameError",
     "evalue": "name 'beta' is not defined",
     "output_type": "error",
     "traceback": [
      "\u001B[0;31m---------------------------------------------------------------------------\u001B[0m",
      "\u001B[0;31mNameError\u001B[0m                                 Traceback (most recent call last)",
      "Cell \u001B[0;32mIn[24], line 1\u001B[0m\n\u001B[0;32m----> 1\u001B[0m cb \u001B[38;5;241m=\u001B[39m \u001B[43mbeta\u001B[49m \u001B[38;5;241m*\u001B[39m \u001B[38;5;241m3600\u001B[39m\n\u001B[1;32m      2\u001B[0m clin \u001B[38;5;241m=\u001B[39m klin \u001B[38;5;241m*\u001B[39m \u001B[38;5;241m365\u001B[39m \u001B[38;5;241m*\u001B[39m \u001B[38;5;241m24\u001B[39m \u001B[38;5;241m*\u001B[39m \u001B[38;5;241m3600\u001B[39m \u001B[38;5;241m*\u001B[39m uopt\n\u001B[1;32m      3\u001B[0m clow \u001B[38;5;241m=\u001B[39m klow \u001B[38;5;241m*\u001B[39m \u001B[38;5;241m365\u001B[39m \u001B[38;5;241m*\u001B[39m \u001B[38;5;241m24\u001B[39m \u001B[38;5;241m*\u001B[39m \u001B[38;5;241m3600\u001B[39m \u001B[38;5;241m*\u001B[39m ulow\n",
      "\u001B[0;31mNameError\u001B[0m: name 'beta' is not defined"
     ]
    }
   ],
   "source": [
    "cb = beta * 3600\n",
    "clin = klin * 365 * 24 * 3600 * uopt\n",
    "clow = klow * 365 * 24 * 3600 * ulow\n",
    "ccrit = 365 * 24 * 3600 * (1.0 - ulow)\n",
    "ci = ki * 365 * (24**2) * (3600**2) * (1.0 - uopt)"
   ],
   "metadata": {
    "collapsed": false,
    "ExecuteTime": {
     "start_time": "2023-10-17T12:47:22.309791Z",
     "end_time": "2023-10-17T12:47:22.834674Z"
    }
   }
  },
  {
   "cell_type": "code",
   "execution_count": 24,
   "outputs": [],
   "source": [],
   "metadata": {
    "collapsed": false,
    "ExecuteTime": {
     "start_time": "2023-10-17T12:47:22.321876Z",
     "end_time": "2023-10-17T12:47:22.834674Z"
    }
   }
  },
  {
   "cell_type": "markdown",
   "source": [],
   "metadata": {
    "collapsed": false
   }
  },
  {
   "cell_type": "code",
   "execution_count": 25,
   "outputs": [
    {
     "ename": "NameError",
     "evalue": "name 'currInterestRate' is not defined",
     "output_type": "error",
     "traceback": [
      "\u001B[0;31m---------------------------------------------------------------------------\u001B[0m",
      "\u001B[0;31mNameError\u001B[0m                                 Traceback (most recent call last)",
      "Cell \u001B[0;32mIn[25], line 1\u001B[0m\n\u001B[0;32m----> 1\u001B[0m \u001B[38;5;28mprint\u001B[39m(\u001B[43mcurrInterestRate\u001B[49m(latestBlockTS(), update_now(), ri, util_crvUSD, Tcrit))\n",
      "\u001B[0;31mNameError\u001B[0m: name 'currInterestRate' is not defined"
     ]
    }
   ],
   "source": [
    "print(currInterestRate(latestBlockTS(), update_now(), ri, util_crvUSD, Tcrit))"
   ],
   "metadata": {
    "collapsed": false,
    "ExecuteTime": {
     "start_time": "2023-10-17T13:37:21.390638Z",
     "end_time": "2023-10-17T13:37:21.488560Z"
    }
   }
  },
  {
   "cell_type": "code",
   "execution_count": 26,
   "outputs": [
    {
     "ename": "NameError",
     "evalue": "name 'interestRateModel' is not defined",
     "output_type": "error",
     "traceback": [
      "\u001B[0;31m---------------------------------------------------------------------------\u001B[0m",
      "\u001B[0;31mNameError\u001B[0m                                 Traceback (most recent call last)",
      "Cell \u001B[0;32mIn[26], line 1\u001B[0m\n\u001B[0;32m----> 1\u001B[0m \u001B[43minterestRateModel\u001B[49m\n",
      "\u001B[0;31mNameError\u001B[0m: name 'interestRateModel' is not defined"
     ]
    }
   ],
   "source": [
    "interestRateModel"
   ],
   "metadata": {
    "collapsed": false,
    "ExecuteTime": {
     "start_time": "2023-10-17T08:56:12.659767Z",
     "end_time": "2023-10-17T08:56:12.699684Z"
    }
   }
  },
  {
   "cell_type": "code",
   "execution_count": 27,
   "outputs": [
    {
     "ename": "NameError",
     "evalue": "name 'latestBlockTS' is not defined",
     "output_type": "error",
     "traceback": [
      "\u001B[0;31m---------------------------------------------------------------------------\u001B[0m",
      "\u001B[0;31mNameError\u001B[0m                                 Traceback (most recent call last)",
      "Cell \u001B[0;32mIn[27], line 1\u001B[0m\n\u001B[0;32m----> 1\u001B[0m \u001B[43mlatestBlockTS\u001B[49m()\n",
      "\u001B[0;31mNameError\u001B[0m: name 'latestBlockTS' is not defined"
     ]
    }
   ],
   "source": [
    "latestBlockTS()"
   ],
   "metadata": {
    "collapsed": false,
    "ExecuteTime": {
     "start_time": "2023-10-17T09:15:46.475405Z",
     "end_time": "2023-10-17T09:15:46.581314Z"
    }
   }
  },
  {
   "cell_type": "code",
   "execution_count": 28,
   "outputs": [
    {
     "ename": "NameError",
     "evalue": "name 'model_contract' is not defined",
     "output_type": "error",
     "traceback": [
      "\u001B[0;31m---------------------------------------------------------------------------\u001B[0m",
      "\u001B[0;31mNameError\u001B[0m                                 Traceback (most recent call last)",
      "Cell \u001B[0;32mIn[28], line 1\u001B[0m\n\u001B[0;32m----> 1\u001B[0m currIntRate \u001B[38;5;241m=\u001B[39m \u001B[43mmodel_contract\u001B[49m\u001B[38;5;241m.\u001B[39mfunctions\u001B[38;5;241m.\u001B[39mgetCurrentInterestRate(siloYield, crvUSD, expiry)\u001B[38;5;241m.\u001B[39mcall()\n",
      "\u001B[0;31mNameError\u001B[0m: name 'model_contract' is not defined"
     ]
    }
   ],
   "source": [
    "currIntRate = model_contract.functions.getCurrentInterestRate(siloYield, crvUSD, expiry).call()"
   ],
   "metadata": {
    "collapsed": false,
    "ExecuteTime": {
     "start_time": "2023-10-17T13:48:49.443731Z",
     "end_time": "2023-10-17T13:48:49.596999Z"
    }
   }
  },
  {
   "cell_type": "code",
   "execution_count": 29,
   "outputs": [
    {
     "ename": "NameError",
     "evalue": "name 'currIntRate' is not defined",
     "output_type": "error",
     "traceback": [
      "\u001B[0;31m---------------------------------------------------------------------------\u001B[0m",
      "\u001B[0;31mNameError\u001B[0m                                 Traceback (most recent call last)",
      "Cell \u001B[0;32mIn[29], line 1\u001B[0m\n\u001B[0;32m----> 1\u001B[0m Web3\u001B[38;5;241m.\u001B[39mfrom_wei(\u001B[43mcurrIntRate\u001B[49m, \u001B[38;5;124m'\u001B[39m\u001B[38;5;124mether\u001B[39m\u001B[38;5;124m'\u001B[39m)\n",
      "\u001B[0;31mNameError\u001B[0m: name 'currIntRate' is not defined"
     ]
    }
   ],
   "source": [
    "Web3.from_wei(currIntRate, 'ether')"
   ],
   "metadata": {
    "collapsed": false,
    "ExecuteTime": {
     "start_time": "2023-10-17T13:48:51.431296Z",
     "end_time": "2023-10-17T13:48:51.440625Z"
    }
   }
  },
  {
   "cell_type": "code",
   "execution_count": 30,
   "outputs": [
    {
     "ename": "NameError",
     "evalue": "name 'model_contract' is not defined",
     "output_type": "error",
     "traceback": [
      "\u001B[0;31m---------------------------------------------------------------------------\u001B[0m",
      "\u001B[0;31mNameError\u001B[0m                                 Traceback (most recent call last)",
      "Cell \u001B[0;32mIn[30], line 1\u001B[0m\n\u001B[0;32m----> 1\u001B[0m Web3\u001B[38;5;241m.\u001B[39mfrom_wei(\u001B[43mmodel_contract\u001B[49m\u001B[38;5;241m.\u001B[39mfunctions\u001B[38;5;241m.\u001B[39mgetCurrentInterestRate(siloYield, yieldToken, expiry)\u001B[38;5;241m.\u001B[39mcall(), \u001B[38;5;124m'\u001B[39m\u001B[38;5;124mether\u001B[39m\u001B[38;5;124m'\u001B[39m)\n",
      "\u001B[0;31mNameError\u001B[0m: name 'model_contract' is not defined"
     ]
    }
   ],
   "source": [
    "Web3.from_wei(model_contract.functions.getCurrentInterestRate(siloYield, yieldToken, expiry).call(), 'ether')"
   ],
   "metadata": {
    "collapsed": false,
    "ExecuteTime": {
     "start_time": "2023-10-17T13:58:13.523648Z",
     "end_time": "2023-10-17T13:58:13.652414Z"
    }
   }
  },
  {
   "cell_type": "code",
   "execution_count": 31,
   "outputs": [
    {
     "ename": "NameError",
     "evalue": "name 'model_contract' is not defined",
     "output_type": "error",
     "traceback": [
      "\u001B[0;31m---------------------------------------------------------------------------\u001B[0m",
      "\u001B[0;31mNameError\u001B[0m                                 Traceback (most recent call last)",
      "Cell \u001B[0;32mIn[31], line 1\u001B[0m\n\u001B[0;32m----> 1\u001B[0m Web3\u001B[38;5;241m.\u001B[39mfrom_wei(\u001B[43mmodel_contract\u001B[49m\u001B[38;5;241m.\u001B[39mfunctions\u001B[38;5;241m.\u001B[39mgetCompoundInterestRate(siloYield, crvUSD, latestBlockTS())\u001B[38;5;241m.\u001B[39mcall(), \u001B[38;5;124m'\u001B[39m\u001B[38;5;124mether\u001B[39m\u001B[38;5;124m'\u001B[39m)\n",
      "\u001B[0;31mNameError\u001B[0m: name 'model_contract' is not defined"
     ]
    }
   ],
   "source": [
    "Web3.from_wei(model_contract.functions.getCompoundInterestRate(siloYield, crvUSD, latestBlockTS()).call(), 'ether')\n"
   ],
   "metadata": {
    "collapsed": false,
    "ExecuteTime": {
     "start_time": "2023-10-17T14:06:19.175282Z",
     "end_time": "2023-10-17T14:06:19.365438Z"
    }
   }
  },
  {
   "cell_type": "code",
   "execution_count": 32,
   "outputs": [
    {
     "ename": "NameError",
     "evalue": "name 'model_contract' is not defined",
     "output_type": "error",
     "traceback": [
      "\u001B[0;31m---------------------------------------------------------------------------\u001B[0m",
      "\u001B[0;31mNameError\u001B[0m                                 Traceback (most recent call last)",
      "Cell \u001B[0;32mIn[32], line 1\u001B[0m\n\u001B[0;32m----> 1\u001B[0m Web3\u001B[38;5;241m.\u001B[39mfrom_wei(\u001B[43mmodel_contract\u001B[49m\u001B[38;5;241m.\u001B[39mfunctions\u001B[38;5;241m.\u001B[39mgetCompoundInterestRate(siloYield, crvUSD, expiry)\u001B[38;5;241m.\u001B[39mcall(), \u001B[38;5;124m'\u001B[39m\u001B[38;5;124mether\u001B[39m\u001B[38;5;124m'\u001B[39m)\n",
      "\u001B[0;31mNameError\u001B[0m: name 'model_contract' is not defined"
     ]
    }
   ],
   "source": [
    "Web3.from_wei(model_contract.functions.getCompoundInterestRate(siloYield, crvUSD, expiry).call(), 'ether')"
   ],
   "metadata": {
    "collapsed": false,
    "ExecuteTime": {
     "start_time": "2023-10-17T14:06:21.463050Z",
     "end_time": "2023-10-17T14:06:21.556139Z"
    }
   }
  },
  {
   "cell_type": "code",
   "execution_count": 33,
   "outputs": [
    {
     "data": {
      "text/plain": "0.1021329533576727"
     },
     "execution_count": 33,
     "metadata": {},
     "output_type": "execute_result"
    }
   ],
   "source": [
    "0.031798680551912693 + 0.07033427280576"
   ],
   "metadata": {
    "collapsed": false,
    "ExecuteTime": {
     "start_time": "2023-10-17T09:26:54.553290Z",
     "end_time": "2023-10-17T09:26:54.593355Z"
    }
   }
  },
  {
   "cell_type": "code",
   "execution_count": 34,
   "outputs": [],
   "source": [
    "sy_abi = '[{\"inputs\":[{\"internalType\":\"string\",\"name\":\"_name\",\"type\":\"string\"},{\"internalType\":\"string\",\"name\":\"_symbol\",\"type\":\"string\"},{\"internalType\":\"address\",\"name\":\"_asset\",\"type\":\"address\"},{\"internalType\":\"address\",\"name\":\"_collateralToken\",\"type\":\"address\"},{\"internalType\":\"address\",\"name\":\"_silo\",\"type\":\"address\"},{\"internalType\":\"address\",\"name\":\"_incentiveController\",\"type\":\"address\"},{\"internalType\":\"address\",\"name\":\"_siloLens\",\"type\":\"address\"}],\"stateMutability\":\"nonpayable\",\"type\":\"constructor\"},{\"inputs\":[{\"internalType\":\"uint256\",\"name\":\"actualSharesOut\",\"type\":\"uint256\"},{\"internalType\":\"uint256\",\"name\":\"requiredSharesOut\",\"type\":\"uint256\"}],\"name\":\"SYInsufficientSharesOut\",\"type\":\"error\"},{\"inputs\":[{\"internalType\":\"uint256\",\"name\":\"actualTokenOut\",\"type\":\"uint256\"},{\"internalType\":\"uint256\",\"name\":\"requiredTokenOut\",\"type\":\"uint256\"}],\"name\":\"SYInsufficientTokenOut\",\"type\":\"error\"},{\"inputs\":[{\"internalType\":\"address\",\"name\":\"token\",\"type\":\"address\"}],\"name\":\"SYInvalidTokenIn\",\"type\":\"error\"},{\"inputs\":[{\"internalType\":\"address\",\"name\":\"token\",\"type\":\"address\"}],\"name\":\"SYInvalidTokenOut\",\"type\":\"error\"},{\"inputs\":[],\"name\":\"SYZeroDeposit\",\"type\":\"error\"},{\"inputs\":[],\"name\":\"SYZeroRedeem\",\"type\":\"error\"},{\"anonymous\":false,\"inputs\":[{\"indexed\":true,\"internalType\":\"address\",\"name\":\"owner\",\"type\":\"address\"},{\"indexed\":true,\"internalType\":\"address\",\"name\":\"spender\",\"type\":\"address\"},{\"indexed\":false,\"internalType\":\"uint256\",\"name\":\"value\",\"type\":\"uint256\"}],\"name\":\"Approval\",\"type\":\"event\"},{\"anonymous\":false,\"inputs\":[{\"indexed\":true,\"internalType\":\"address\",\"name\":\"user\",\"type\":\"address\"},{\"indexed\":false,\"internalType\":\"address[]\",\"name\":\"rewardTokens\",\"type\":\"address[]\"},{\"indexed\":false,\"internalType\":\"uint256[]\",\"name\":\"rewardAmounts\",\"type\":\"uint256[]\"}],\"name\":\"ClaimRewards\",\"type\":\"event\"},{\"anonymous\":false,\"inputs\":[{\"indexed\":true,\"internalType\":\"address\",\"name\":\"caller\",\"type\":\"address\"},{\"indexed\":true,\"internalType\":\"address\",\"name\":\"receiver\",\"type\":\"address\"},{\"indexed\":true,\"internalType\":\"address\",\"name\":\"tokenIn\",\"type\":\"address\"},{\"indexed\":false,\"internalType\":\"uint256\",\"name\":\"amountDeposited\",\"type\":\"uint256\"},{\"indexed\":false,\"internalType\":\"uint256\",\"name\":\"amountSyOut\",\"type\":\"uint256\"}],\"name\":\"Deposit\",\"type\":\"event\"},{\"anonymous\":false,\"inputs\":[{\"indexed\":false,\"internalType\":\"uint8\",\"name\":\"version\",\"type\":\"uint8\"}],\"name\":\"Initialized\",\"type\":\"event\"},{\"anonymous\":false,\"inputs\":[{\"indexed\":true,\"internalType\":\"address\",\"name\":\"previousOwner\",\"type\":\"address\"},{\"indexed\":true,\"internalType\":\"address\",\"name\":\"newOwner\",\"type\":\"address\"}],\"name\":\"OwnershipTransferred\",\"type\":\"event\"},{\"anonymous\":false,\"inputs\":[{\"indexed\":false,\"internalType\":\"address\",\"name\":\"account\",\"type\":\"address\"}],\"name\":\"Paused\",\"type\":\"event\"},{\"anonymous\":false,\"inputs\":[{\"indexed\":true,\"internalType\":\"address\",\"name\":\"caller\",\"type\":\"address\"},{\"indexed\":true,\"internalType\":\"address\",\"name\":\"receiver\",\"type\":\"address\"},{\"indexed\":true,\"internalType\":\"address\",\"name\":\"tokenOut\",\"type\":\"address\"},{\"indexed\":false,\"internalType\":\"uint256\",\"name\":\"amountSyToRedeem\",\"type\":\"uint256\"},{\"indexed\":false,\"internalType\":\"uint256\",\"name\":\"amountTokenOut\",\"type\":\"uint256\"}],\"name\":\"Redeem\",\"type\":\"event\"},{\"anonymous\":false,\"inputs\":[{\"indexed\":true,\"internalType\":\"address\",\"name\":\"from\",\"type\":\"address\"},{\"indexed\":true,\"internalType\":\"address\",\"name\":\"to\",\"type\":\"address\"},{\"indexed\":false,\"internalType\":\"uint256\",\"name\":\"value\",\"type\":\"uint256\"}],\"name\":\"Transfer\",\"type\":\"event\"},{\"anonymous\":false,\"inputs\":[{\"indexed\":false,\"internalType\":\"address\",\"name\":\"account\",\"type\":\"address\"}],\"name\":\"Unpaused\",\"type\":\"event\"},{\"inputs\":[],\"name\":\"DOMAIN_SEPARATOR\",\"outputs\":[{\"internalType\":\"bytes32\",\"name\":\"\",\"type\":\"bytes32\"}],\"stateMutability\":\"view\",\"type\":\"function\"},{\"inputs\":[{\"internalType\":\"address\",\"name\":\"user\",\"type\":\"address\"}],\"name\":\"accruedRewards\",\"outputs\":[{\"internalType\":\"uint256[]\",\"name\":\"rewardAmounts\",\"type\":\"uint256[]\"}],\"stateMutability\":\"view\",\"type\":\"function\"},{\"inputs\":[{\"internalType\":\"address\",\"name\":\"owner\",\"type\":\"address\"},{\"internalType\":\"address\",\"name\":\"spender\",\"type\":\"address\"}],\"name\":\"allowance\",\"outputs\":[{\"internalType\":\"uint256\",\"name\":\"\",\"type\":\"uint256\"}],\"stateMutability\":\"view\",\"type\":\"function\"},{\"inputs\":[{\"internalType\":\"address\",\"name\":\"spender\",\"type\":\"address\"},{\"internalType\":\"uint256\",\"name\":\"amount\",\"type\":\"uint256\"}],\"name\":\"approve\",\"outputs\":[{\"internalType\":\"bool\",\"name\":\"\",\"type\":\"bool\"}],\"stateMutability\":\"nonpayable\",\"type\":\"function\"},{\"inputs\":[],\"name\":\"asset\",\"outputs\":[{\"internalType\":\"address\",\"name\":\"\",\"type\":\"address\"}],\"stateMutability\":\"view\",\"type\":\"function\"},{\"inputs\":[],\"name\":\"assetInfo\",\"outputs\":[{\"internalType\":\"enum IStandardizedYield.AssetType\",\"name\":\"assetType\",\"type\":\"uint8\"},{\"internalType\":\"address\",\"name\":\"assetAddress\",\"type\":\"address\"},{\"internalType\":\"uint8\",\"name\":\"assetDecimals\",\"type\":\"uint8\"}],\"stateMutability\":\"view\",\"type\":\"function\"},{\"inputs\":[{\"internalType\":\"address\",\"name\":\"account\",\"type\":\"address\"}],\"name\":\"balanceOf\",\"outputs\":[{\"internalType\":\"uint256\",\"name\":\"\",\"type\":\"uint256\"}],\"stateMutability\":\"view\",\"type\":\"function\"},{\"inputs\":[],\"name\":\"claimOwnership\",\"outputs\":[],\"stateMutability\":\"nonpayable\",\"type\":\"function\"},{\"inputs\":[{\"internalType\":\"address\",\"name\":\"user\",\"type\":\"address\"}],\"name\":\"claimRewards\",\"outputs\":[{\"internalType\":\"uint256[]\",\"name\":\"rewardAmounts\",\"type\":\"uint256[]\"}],\"stateMutability\":\"nonpayable\",\"type\":\"function\"},{\"inputs\":[],\"name\":\"collateralToken\",\"outputs\":[{\"internalType\":\"address\",\"name\":\"\",\"type\":\"address\"}],\"stateMutability\":\"view\",\"type\":\"function\"},{\"inputs\":[],\"name\":\"decimals\",\"outputs\":[{\"internalType\":\"uint8\",\"name\":\"\",\"type\":\"uint8\"}],\"stateMutability\":\"view\",\"type\":\"function\"},{\"inputs\":[{\"internalType\":\"address\",\"name\":\"receiver\",\"type\":\"address\"},{\"internalType\":\"address\",\"name\":\"tokenIn\",\"type\":\"address\"},{\"internalType\":\"uint256\",\"name\":\"amountTokenToDeposit\",\"type\":\"uint256\"},{\"internalType\":\"uint256\",\"name\":\"minSharesOut\",\"type\":\"uint256\"}],\"name\":\"deposit\",\"outputs\":[{\"internalType\":\"uint256\",\"name\":\"amountSharesOut\",\"type\":\"uint256\"}],\"stateMutability\":\"payable\",\"type\":\"function\"},{\"inputs\":[],\"name\":\"exchangeRate\",\"outputs\":[{\"internalType\":\"uint256\",\"name\":\"\",\"type\":\"uint256\"}],\"stateMutability\":\"view\",\"type\":\"function\"},{\"inputs\":[],\"name\":\"getRewardTokens\",\"outputs\":[{\"internalType\":\"address[]\",\"name\":\"rewardTokens\",\"type\":\"address[]\"}],\"stateMutability\":\"view\",\"type\":\"function\"},{\"inputs\":[],\"name\":\"getTokensIn\",\"outputs\":[{\"internalType\":\"address[]\",\"name\":\"\",\"type\":\"address[]\"}],\"stateMutability\":\"view\",\"type\":\"function\"},{\"inputs\":[],\"name\":\"getTokensOut\",\"outputs\":[{\"internalType\":\"address[]\",\"name\":\"\",\"type\":\"address[]\"}],\"stateMutability\":\"view\",\"type\":\"function\"},{\"inputs\":[],\"name\":\"incentiveController\",\"outputs\":[{\"internalType\":\"address\",\"name\":\"\",\"type\":\"address\"}],\"stateMutability\":\"view\",\"type\":\"function\"},{\"inputs\":[{\"internalType\":\"address\",\"name\":\"token\",\"type\":\"address\"}],\"name\":\"isValidTokenIn\",\"outputs\":[{\"internalType\":\"bool\",\"name\":\"\",\"type\":\"bool\"}],\"stateMutability\":\"view\",\"type\":\"function\"},{\"inputs\":[{\"internalType\":\"address\",\"name\":\"token\",\"type\":\"address\"}],\"name\":\"isValidTokenOut\",\"outputs\":[{\"internalType\":\"bool\",\"name\":\"\",\"type\":\"bool\"}],\"stateMutability\":\"view\",\"type\":\"function\"},{\"inputs\":[],\"name\":\"lastRewardBlock\",\"outputs\":[{\"internalType\":\"uint256\",\"name\":\"\",\"type\":\"uint256\"}],\"stateMutability\":\"view\",\"type\":\"function\"},{\"inputs\":[],\"name\":\"name\",\"outputs\":[{\"internalType\":\"string\",\"name\":\"\",\"type\":\"string\"}],\"stateMutability\":\"view\",\"type\":\"function\"},{\"inputs\":[{\"internalType\":\"address\",\"name\":\"owner\",\"type\":\"address\"}],\"name\":\"nonces\",\"outputs\":[{\"internalType\":\"uint256\",\"name\":\"\",\"type\":\"uint256\"}],\"stateMutability\":\"view\",\"type\":\"function\"},{\"inputs\":[],\"name\":\"owner\",\"outputs\":[{\"internalType\":\"address\",\"name\":\"\",\"type\":\"address\"}],\"stateMutability\":\"view\",\"type\":\"function\"},{\"inputs\":[],\"name\":\"pause\",\"outputs\":[],\"stateMutability\":\"nonpayable\",\"type\":\"function\"},{\"inputs\":[],\"name\":\"paused\",\"outputs\":[{\"internalType\":\"bool\",\"name\":\"\",\"type\":\"bool\"}],\"stateMutability\":\"view\",\"type\":\"function\"},{\"inputs\":[],\"name\":\"pendingOwner\",\"outputs\":[{\"internalType\":\"address\",\"name\":\"\",\"type\":\"address\"}],\"stateMutability\":\"view\",\"type\":\"function\"},{\"inputs\":[{\"internalType\":\"address\",\"name\":\"owner\",\"type\":\"address\"},{\"internalType\":\"address\",\"name\":\"spender\",\"type\":\"address\"},{\"internalType\":\"uint256\",\"name\":\"value\",\"type\":\"uint256\"},{\"internalType\":\"uint256\",\"name\":\"deadline\",\"type\":\"uint256\"},{\"internalType\":\"uint8\",\"name\":\"v\",\"type\":\"uint8\"},{\"internalType\":\"bytes32\",\"name\":\"r\",\"type\":\"bytes32\"},{\"internalType\":\"bytes32\",\"name\":\"s\",\"type\":\"bytes32\"}],\"name\":\"permit\",\"outputs\":[],\"stateMutability\":\"nonpayable\",\"type\":\"function\"},{\"inputs\":[{\"internalType\":\"address\",\"name\":\"tokenIn\",\"type\":\"address\"},{\"internalType\":\"uint256\",\"name\":\"amountTokenToDeposit\",\"type\":\"uint256\"}],\"name\":\"previewDeposit\",\"outputs\":[{\"internalType\":\"uint256\",\"name\":\"amountSharesOut\",\"type\":\"uint256\"}],\"stateMutability\":\"view\",\"type\":\"function\"},{\"inputs\":[{\"internalType\":\"address\",\"name\":\"tokenOut\",\"type\":\"address\"},{\"internalType\":\"uint256\",\"name\":\"amountSharesToRedeem\",\"type\":\"uint256\"}],\"name\":\"previewRedeem\",\"outputs\":[{\"internalType\":\"uint256\",\"name\":\"amountTokenOut\",\"type\":\"uint256\"}],\"stateMutability\":\"view\",\"type\":\"function\"},{\"inputs\":[{\"internalType\":\"address\",\"name\":\"receiver\",\"type\":\"address\"},{\"internalType\":\"uint256\",\"name\":\"amountSharesToRedeem\",\"type\":\"uint256\"},{\"internalType\":\"address\",\"name\":\"tokenOut\",\"type\":\"address\"},{\"internalType\":\"uint256\",\"name\":\"minTokenOut\",\"type\":\"uint256\"},{\"internalType\":\"bool\",\"name\":\"burnFromInternalBalance\",\"type\":\"bool\"}],\"name\":\"redeem\",\"outputs\":[{\"internalType\":\"uint256\",\"name\":\"amountTokenOut\",\"type\":\"uint256\"}],\"stateMutability\":\"nonpayable\",\"type\":\"function\"},{\"inputs\":[],\"name\":\"rewardIndexesCurrent\",\"outputs\":[{\"internalType\":\"uint256[]\",\"name\":\"indexes\",\"type\":\"uint256[]\"}],\"stateMutability\":\"nonpayable\",\"type\":\"function\"},{\"inputs\":[],\"name\":\"rewardIndexesStored\",\"outputs\":[{\"internalType\":\"uint256[]\",\"name\":\"indexes\",\"type\":\"uint256[]\"}],\"stateMutability\":\"view\",\"type\":\"function\"},{\"inputs\":[{\"internalType\":\"address\",\"name\":\"\",\"type\":\"address\"}],\"name\":\"rewardState\",\"outputs\":[{\"internalType\":\"uint128\",\"name\":\"index\",\"type\":\"uint128\"},{\"internalType\":\"uint128\",\"name\":\"lastBalance\",\"type\":\"uint128\"}],\"stateMutability\":\"view\",\"type\":\"function\"},{\"inputs\":[],\"name\":\"rewardToken\",\"outputs\":[{\"internalType\":\"address\",\"name\":\"\",\"type\":\"address\"}],\"stateMutability\":\"view\",\"type\":\"function\"},{\"inputs\":[],\"name\":\"silo\",\"outputs\":[{\"internalType\":\"address\",\"name\":\"\",\"type\":\"address\"}],\"stateMutability\":\"view\",\"type\":\"function\"},{\"inputs\":[],\"name\":\"siloLens\",\"outputs\":[{\"internalType\":\"address\",\"name\":\"\",\"type\":\"address\"}],\"stateMutability\":\"view\",\"type\":\"function\"},{\"inputs\":[],\"name\":\"symbol\",\"outputs\":[{\"internalType\":\"string\",\"name\":\"\",\"type\":\"string\"}],\"stateMutability\":\"view\",\"type\":\"function\"},{\"inputs\":[],\"name\":\"totalSupply\",\"outputs\":[{\"internalType\":\"uint256\",\"name\":\"\",\"type\":\"uint256\"}],\"stateMutability\":\"view\",\"type\":\"function\"},{\"inputs\":[{\"internalType\":\"address\",\"name\":\"to\",\"type\":\"address\"},{\"internalType\":\"uint256\",\"name\":\"amount\",\"type\":\"uint256\"}],\"name\":\"transfer\",\"outputs\":[{\"internalType\":\"bool\",\"name\":\"\",\"type\":\"bool\"}],\"stateMutability\":\"nonpayable\",\"type\":\"function\"},{\"inputs\":[{\"internalType\":\"address\",\"name\":\"from\",\"type\":\"address\"},{\"internalType\":\"address\",\"name\":\"to\",\"type\":\"address\"},{\"internalType\":\"uint256\",\"name\":\"amount\",\"type\":\"uint256\"}],\"name\":\"transferFrom\",\"outputs\":[{\"internalType\":\"bool\",\"name\":\"\",\"type\":\"bool\"}],\"stateMutability\":\"nonpayable\",\"type\":\"function\"},{\"inputs\":[{\"internalType\":\"address\",\"name\":\"newOwner\",\"type\":\"address\"},{\"internalType\":\"bool\",\"name\":\"direct\",\"type\":\"bool\"},{\"internalType\":\"bool\",\"name\":\"renounce\",\"type\":\"bool\"}],\"name\":\"transferOwnership\",\"outputs\":[],\"stateMutability\":\"nonpayable\",\"type\":\"function\"},{\"inputs\":[],\"name\":\"unpause\",\"outputs\":[],\"stateMutability\":\"nonpayable\",\"type\":\"function\"},{\"inputs\":[{\"internalType\":\"address\",\"name\":\"\",\"type\":\"address\"},{\"internalType\":\"address\",\"name\":\"\",\"type\":\"address\"}],\"name\":\"userReward\",\"outputs\":[{\"internalType\":\"uint128\",\"name\":\"index\",\"type\":\"uint128\"},{\"internalType\":\"uint128\",\"name\":\"accrued\",\"type\":\"uint128\"}],\"stateMutability\":\"view\",\"type\":\"function\"},{\"inputs\":[],\"name\":\"yieldToken\",\"outputs\":[{\"internalType\":\"address\",\"name\":\"\",\"type\":\"address\"}],\"stateMutability\":\"view\",\"type\":\"function\"},{\"stateMutability\":\"payable\",\"type\":\"receive\"}]'\n",
    "\n",
    "sy_addr = '0xE05082B184a34668CD8A904D85FA815802BBb04c'\n",
    "\n",
    "\n",
    "sy_contract = w3.eth.contract(address=sy_addr, abi=sy_abi)"
   ],
   "metadata": {
    "collapsed": false,
    "ExecuteTime": {
     "start_time": "2023-10-17T10:50:28.913457Z",
     "end_time": "2023-10-17T10:50:28.961887Z"
    }
   }
  },
  {
   "cell_type": "code",
   "execution_count": 35,
   "outputs": [],
   "source": [
    "lastRewardBlock = sy_contract.functions.lastRewardBlock().call()"
   ],
   "metadata": {
    "collapsed": false,
    "ExecuteTime": {
     "start_time": "2023-10-17T10:57:03.679790Z",
     "end_time": "2023-10-17T10:57:03.849498Z"
    }
   }
  },
  {
   "cell_type": "code",
   "execution_count": 36,
   "outputs": [
    {
     "data": {
      "text/plain": "1697604719"
     },
     "execution_count": 36,
     "metadata": {},
     "output_type": "execute_result"
    }
   ],
   "source": [
    "w3.eth.get_block(lastRewardBlock)['timestamp']"
   ],
   "metadata": {
    "collapsed": false,
    "ExecuteTime": {
     "start_time": "2023-10-17T10:57:30.974556Z",
     "end_time": "2023-10-17T10:57:31.117985Z"
    }
   }
  },
  {
   "cell_type": "code",
   "execution_count": 37,
   "outputs": [
    {
     "data": {
      "text/plain": "datetime.datetime(2023, 10, 17, 9, 46, 59)"
     },
     "execution_count": 37,
     "metadata": {},
     "output_type": "execute_result"
    }
   ],
   "source": [
    "datetime.fromtimestamp(1697550419)"
   ],
   "metadata": {
    "collapsed": false,
    "ExecuteTime": {
     "start_time": "2023-10-17T10:58:52.932238Z",
     "end_time": "2023-10-17T10:58:53.002983Z"
    }
   }
  },
  {
   "cell_type": "code",
   "execution_count": 38,
   "outputs": [
    {
     "ename": "NameError",
     "evalue": "name 'crvUSD' is not defined",
     "output_type": "error",
     "traceback": [
      "\u001B[0;31m---------------------------------------------------------------------------\u001B[0m",
      "\u001B[0;31mNameError\u001B[0m                                 Traceback (most recent call last)",
      "Cell \u001B[0;32mIn[38], line 1\u001B[0m\n\u001B[0;32m----> 1\u001B[0m \u001B[43mcrvUSD\u001B[49m\n",
      "\u001B[0;31mNameError\u001B[0m: name 'crvUSD' is not defined"
     ]
    }
   ],
   "source": [
    "crvUSD"
   ],
   "metadata": {
    "collapsed": false,
    "ExecuteTime": {
     "start_time": "2023-10-17T11:05:18.936185Z",
     "end_time": "2023-10-17T11:05:18.993319Z"
    }
   }
  },
  {
   "cell_type": "code",
   "execution_count": 39,
   "outputs": [
    {
     "data": {
      "text/plain": "[0]"
     },
     "execution_count": 39,
     "metadata": {},
     "output_type": "execute_result"
    }
   ],
   "source": [
    "sy_contract.functions.accruedRewards('0xC9beCdbC62efb867cB52222b34c187fB170379C6').call()"
   ],
   "metadata": {
    "collapsed": false,
    "ExecuteTime": {
     "start_time": "2023-10-17T12:51:24.271709Z",
     "end_time": "2023-10-17T12:51:24.392154Z"
    }
   }
  },
  {
   "cell_type": "code",
   "execution_count": 153,
   "outputs": [],
   "source": [
    "rewardsStored = float(Web3.from_wei(sy_contract.functions.rewardIndexesStored().call()[0], 'ether'))"
   ],
   "metadata": {
    "collapsed": false,
    "ExecuteTime": {
     "start_time": "2023-10-17T12:51:25.240107Z",
     "end_time": "2023-10-17T12:51:25.335335Z"
    }
   }
  },
  {
   "cell_type": "code",
   "execution_count": 154,
   "outputs": [
    {
     "data": {
      "text/plain": "0.023812711056301377"
     },
     "execution_count": 154,
     "metadata": {},
     "output_type": "execute_result"
    }
   ],
   "source": [
    "rewardsStored * 10"
   ],
   "metadata": {
    "collapsed": false,
    "ExecuteTime": {
     "start_time": "2023-10-17T12:51:26.145998Z",
     "end_time": "2023-10-17T12:51:26.194299Z"
    }
   }
  },
  {
   "cell_type": "code",
   "execution_count": 155,
   "outputs": [
    {
     "data": {
      "text/plain": "0.07176347160928653"
     },
     "execution_count": 155,
     "metadata": {},
     "output_type": "execute_result"
    }
   ],
   "source": [
    "lastImpliedRate -1"
   ],
   "metadata": {
    "collapsed": false,
    "ExecuteTime": {
     "start_time": "2023-10-17T12:51:26.897331Z",
     "end_time": "2023-10-17T12:51:26.950476Z"
    }
   }
  },
  {
   "cell_type": "code",
   "execution_count": 156,
   "outputs": [
    {
     "data": {
      "text/plain": "0.09557618266558791"
     },
     "execution_count": 156,
     "metadata": {},
     "output_type": "execute_result"
    }
   ],
   "source": [
    "(rewardsStored * 10) + (lastImpliedRate - 1)\n"
   ],
   "metadata": {
    "collapsed": false,
    "ExecuteTime": {
     "start_time": "2023-10-17T12:51:27.270966Z",
     "end_time": "2023-10-17T12:51:27.327524Z"
    }
   }
  },
  {
   "cell_type": "code",
   "execution_count": null,
   "outputs": [],
   "source": [],
   "metadata": {
    "collapsed": false
   }
  },
  {
   "cell_type": "code",
   "execution_count": null,
   "outputs": [],
   "source": [],
   "metadata": {
    "collapsed": false
   }
  },
  {
   "cell_type": "code",
   "execution_count": null,
   "outputs": [],
   "source": [],
   "metadata": {
    "collapsed": false
   }
  },
  {
   "cell_type": "code",
   "execution_count": null,
   "outputs": [],
   "source": [],
   "metadata": {
    "collapsed": false
   }
  },
  {
   "cell_type": "code",
   "execution_count": null,
   "outputs": [],
   "source": [],
   "metadata": {
    "collapsed": false
   }
  },
  {
   "cell_type": "code",
   "execution_count": null,
   "outputs": [],
   "source": [],
   "metadata": {
    "collapsed": false
   }
  },
  {
   "cell_type": "code",
   "execution_count": null,
   "outputs": [],
   "source": [],
   "metadata": {
    "collapsed": false
   }
  },
  {
   "cell_type": "code",
   "execution_count": null,
   "outputs": [],
   "source": [],
   "metadata": {
    "collapsed": false
   }
  },
  {
   "cell_type": "code",
   "execution_count": 167,
   "outputs": [
    {
     "data": {
      "text/plain": "0.0013136507479747372"
     },
     "execution_count": 167,
     "metadata": {},
     "output_type": "execute_result"
    }
   ],
   "source": [
    "1.0013136507479747 - 1"
   ],
   "metadata": {
    "collapsed": false,
    "ExecuteTime": {
     "start_time": "2023-10-17T15:34:03.031405Z",
     "end_time": "2023-10-17T15:34:03.051494Z"
    }
   }
  },
  {
   "cell_type": "code",
   "execution_count": 168,
   "outputs": [
    {
     "data": {
      "text/plain": "0.9986863492520253"
     },
     "execution_count": 168,
     "metadata": {},
     "output_type": "execute_result"
    }
   ],
   "source": [
    "1 - 0.0013136507479747372"
   ],
   "metadata": {
    "collapsed": false,
    "ExecuteTime": {
     "start_time": "2023-10-17T15:34:14.503747Z",
     "end_time": "2023-10-17T15:34:14.590488Z"
    }
   }
  },
  {
   "cell_type": "code",
   "execution_count": 169,
   "outputs": [
    {
     "data": {
      "text/plain": "0.9986880726663484"
     },
     "execution_count": 169,
     "metadata": {},
     "output_type": "execute_result"
    }
   ],
   "source": [
    "1 / 1.0013136507479747"
   ],
   "metadata": {
    "collapsed": false,
    "ExecuteTime": {
     "start_time": "2023-10-17T15:36:20.832762Z",
     "end_time": "2023-10-17T15:36:20.886509Z"
    }
   }
  },
  {
   "cell_type": "code",
   "execution_count": 170,
   "outputs": [
    {
     "data": {
      "text/plain": "1.0043643519670307e-09"
     },
     "execution_count": 170,
     "metadata": {},
     "output_type": "execute_result"
    }
   ],
   "source": [
    "2381271105630138 / 2370923560724211950840786"
   ],
   "metadata": {
    "collapsed": false,
    "ExecuteTime": {
     "start_time": "2023-10-17T17:03:03.360028Z",
     "end_time": "2023-10-17T17:03:03.407323Z"
    }
   }
  },
  {
   "cell_type": "code",
   "execution_count": 171,
   "outputs": [
    {
     "data": {
      "text/plain": "Decimal('2370923.560724211950840786')"
     },
     "execution_count": 171,
     "metadata": {},
     "output_type": "execute_result"
    }
   ],
   "source": [
    "Web3.from_wei(2370923560724211950840786, 'ether')"
   ],
   "metadata": {
    "collapsed": false,
    "ExecuteTime": {
     "start_time": "2023-10-17T17:03:38.387114Z",
     "end_time": "2023-10-17T17:03:38.428479Z"
    }
   }
  },
  {
   "cell_type": "code",
   "execution_count": 172,
   "outputs": [
    {
     "data": {
      "text/plain": "0.018005433529842085"
     },
     "execution_count": 172,
     "metadata": {},
     "output_type": "execute_result"
    }
   ],
   "source": [
    "# 0.002381271105630138\n",
    "\n",
    "delta = time.time() - startTime\n",
    "delta / unixYear"
   ],
   "metadata": {
    "collapsed": false,
    "ExecuteTime": {
     "start_time": "2023-10-17T17:09:07.135486Z",
     "end_time": "2023-10-17T17:09:07.185284Z"
    }
   }
  },
  {
   "cell_type": "code",
   "execution_count": 178,
   "outputs": [],
   "source": [
    "x = 0.002381271105630138 ** ((expiry - time.time()) / unixYear)"
   ],
   "metadata": {
    "collapsed": false,
    "ExecuteTime": {
     "start_time": "2023-10-17T17:13:55.384949Z",
     "end_time": "2023-10-17T17:13:55.406162Z"
    }
   }
  },
  {
   "cell_type": "code",
   "execution_count": 179,
   "outputs": [
    {
     "data": {
      "text/plain": "0.06849802771039565"
     },
     "execution_count": 179,
     "metadata": {},
     "output_type": "execute_result"
    }
   ],
   "source": [
    "x"
   ],
   "metadata": {
    "collapsed": false,
    "ExecuteTime": {
     "start_time": "2023-10-17T17:13:57.272321Z",
     "end_time": "2023-10-17T17:13:57.401580Z"
    }
   }
  },
  {
   "cell_type": "code",
   "execution_count": 180,
   "outputs": [
    {
     "data": {
      "text/plain": "1.4733184216331736"
     },
     "execution_count": 180,
     "metadata": {},
     "output_type": "execute_result"
    }
   ],
   "source": [
    "2.322**(0.46)"
   ],
   "metadata": {
    "collapsed": false,
    "ExecuteTime": {
     "start_time": "2023-10-17T17:28:16.638077Z",
     "end_time": "2023-10-17T17:28:16.700009Z"
    }
   }
  },
  {
   "cell_type": "code",
   "execution_count": 181,
   "outputs": [
    {
     "data": {
      "text/plain": "32.484513008423235"
     },
     "execution_count": 181,
     "metadata": {},
     "output_type": "execute_result"
    }
   ],
   "source": [
    "1/0.0307839"
   ],
   "metadata": {
    "collapsed": false,
    "ExecuteTime": {
     "start_time": "2023-10-17T17:29:27.619421Z",
     "end_time": "2023-10-17T17:29:27.670757Z"
    }
   }
  },
  {
   "cell_type": "code",
   "execution_count": 183,
   "outputs": [
    {
     "data": {
      "text/plain": "14.417461772658928"
     },
     "execution_count": 183,
     "metadata": {},
     "output_type": "execute_result"
    }
   ],
   "source": [
    "(1/0.0307839)*((expiry-time.time())/unixYear)"
   ],
   "metadata": {
    "collapsed": false,
    "ExecuteTime": {
     "start_time": "2023-10-17T17:30:25.184019Z",
     "end_time": "2023-10-17T17:30:25.214231Z"
    }
   }
  },
  {
   "cell_type": "code",
   "execution_count": 184,
   "outputs": [
    {
     "data": {
      "text/plain": "0.05888935477139826"
     },
     "execution_count": 184,
     "metadata": {},
     "output_type": "execute_result"
    }
   ],
   "source": [
    "0.8490350212331841 / 14.417461772658928"
   ],
   "metadata": {
    "collapsed": false,
    "ExecuteTime": {
     "start_time": "2023-10-17T17:31:20.995525Z",
     "end_time": "2023-10-17T17:31:21.106497Z"
    }
   }
  },
  {
   "cell_type": "code",
   "execution_count": 185,
   "outputs": [
    {
     "data": {
      "text/plain": "0.001693178410266944"
     },
     "execution_count": 185,
     "metadata": {},
     "output_type": "execute_result"
    }
   ],
   "source": [
    "0.058889354**(1 / ((expiry-time.time())/unixYear))"
   ],
   "metadata": {
    "collapsed": false,
    "ExecuteTime": {
     "start_time": "2023-10-17T17:32:16.191478Z",
     "end_time": "2023-10-17T17:32:16.266662Z"
    }
   }
  },
  {
   "cell_type": "code",
   "execution_count": 186,
   "outputs": [
    {
     "data": {
      "text/plain": "0.44382113940083906"
     },
     "execution_count": 186,
     "metadata": {},
     "output_type": "execute_result"
    }
   ],
   "source": [
    "(expiry - time.time()) / unixYear"
   ],
   "metadata": {
    "collapsed": false,
    "ExecuteTime": {
     "start_time": "2023-10-17T17:32:49.148687Z",
     "end_time": "2023-10-17T17:32:49.229335Z"
    }
   }
  },
  {
   "cell_type": "code",
   "execution_count": 187,
   "outputs": [
    {
     "data": {
      "text/plain": "2.2531601133880295"
     },
     "execution_count": 187,
     "metadata": {},
     "output_type": "execute_result"
    }
   ],
   "source": [
    "1 / 0.4438211"
   ],
   "metadata": {
    "collapsed": false,
    "ExecuteTime": {
     "start_time": "2023-10-17T17:32:58.343588Z",
     "end_time": "2023-10-17T17:32:58.444309Z"
    }
   }
  },
  {
   "cell_type": "code",
   "execution_count": 188,
   "outputs": [
    {
     "data": {
      "text/plain": "0.001693440355246964"
     },
     "execution_count": 188,
     "metadata": {},
     "output_type": "execute_result"
    }
   ],
   "source": [
    "0.05888935477139826**(2.2531)"
   ],
   "metadata": {
    "collapsed": false,
    "ExecuteTime": {
     "start_time": "2023-10-17T17:33:14.963630Z",
     "end_time": "2023-10-17T17:33:15.058104Z"
    }
   }
  },
  {
   "cell_type": "code",
   "execution_count": 189,
   "outputs": [
    {
     "data": {
      "text/plain": "0.08870440355246964"
     },
     "execution_count": 189,
     "metadata": {},
     "output_type": "execute_result"
    }
   ],
   "source": [
    "0.01693440355246964 + 0.07177"
   ],
   "metadata": {
    "collapsed": false,
    "ExecuteTime": {
     "start_time": "2023-10-17T17:36:18.078614Z",
     "end_time": "2023-10-17T17:36:18.147918Z"
    }
   }
  },
  {
   "cell_type": "code",
   "execution_count": 191,
   "outputs": [
    {
     "data": {
      "text/plain": "1.170595114040302"
     },
     "execution_count": 191,
     "metadata": {},
     "output_type": "execute_result"
    }
   ],
   "source": [
    "1.0717634716092865**(1/0.44)"
   ],
   "metadata": {
    "collapsed": false,
    "ExecuteTime": {
     "start_time": "2023-10-17T17:46:40.184680Z",
     "end_time": "2023-10-17T17:46:40.211994Z"
    }
   }
  },
  {
   "cell_type": "code",
   "execution_count": 192,
   "outputs": [
    {
     "data": {
      "text/plain": "1.0309640901430779"
     },
     "execution_count": 192,
     "metadata": {},
     "output_type": "execute_result"
    }
   ],
   "source": [
    "1.0717634716092865**0.44"
   ],
   "metadata": {
    "collapsed": false,
    "ExecuteTime": {
     "start_time": "2023-10-17T17:55:23.657901Z",
     "end_time": "2023-10-17T17:55:23.716512Z"
    }
   }
  },
  {
   "cell_type": "code",
   "execution_count": 194,
   "outputs": [
    {
     "data": {
      "text/plain": "0.03096262078210965"
     },
     "execution_count": 194,
     "metadata": {},
     "output_type": "execute_result"
    }
   ],
   "source": [
    "1.07176 ** 0.44 - 1"
   ],
   "metadata": {
    "collapsed": false,
    "ExecuteTime": {
     "start_time": "2023-10-17T18:05:55.899647Z",
     "end_time": "2023-10-17T18:05:55.927622Z"
    }
   }
  },
  {
   "cell_type": "code",
   "execution_count": 195,
   "outputs": [
    {
     "data": {
      "text/plain": "1.0000445446107438"
     },
     "execution_count": 195,
     "metadata": {},
     "output_type": "execute_result"
    }
   ],
   "source": [
    "0.030964/0.03096262078210965"
   ],
   "metadata": {
    "collapsed": false,
    "ExecuteTime": {
     "start_time": "2023-10-17T18:06:13.755263Z",
     "end_time": "2023-10-17T18:06:13.841704Z"
    }
   }
  },
  {
   "cell_type": "code",
   "execution_count": 4,
   "outputs": [],
   "source": [
    "import pickle\n",
    "import pendleTracker\n",
    "\n",
    "with open('pendleData.pkl', 'rb') as fp:\n",
    "    tmpDict = pickle.load(fp)\n",
    "\n"
   ],
   "metadata": {
    "collapsed": false,
    "ExecuteTime": {
     "start_time": "2023-10-20T03:31:02.103842Z",
     "end_time": "2023-10-20T03:31:02.155831Z"
    }
   }
  },
  {
   "cell_type": "code",
   "execution_count": 5,
   "outputs": [
    {
     "data": {
      "text/plain": "{'1697659824.6171749': [0.030229059553304027,\n  0.969770940446696,\n  1.0720430078727923,\n  0.087407674683552,\n  0.046450841781475835,\n  0.5313880245411214,\n  0.11080581898076813,\n  1697659824.6171749],\n '1697659931.269402': [0.030228831219977312,\n  0.9697711687800227,\n  1.0720430078727923,\n  0.0874208202444,\n  0.045980843357063615,\n  0.5259712677587928,\n  0.7616200781323521,\n  1697659931.269402],\n '1697665854.96715': [0.030216167626872244,\n  0.9697838323731123,\n  1.0720430078727923,\n  0.088133589221616,\n  0.046356202534694704,\n  0.5259712677587928,\n  0.7616200781323521,\n  1697665854.96715],\n '1697666422.0161078': [0.030214955773140803,\n  0.969785044226845,\n  1.0720430078727923,\n  0.088201403289936,\n  0.046391915439840656,\n  0.5259712677587928,\n  0.7616200781323521,\n  1697666422.0161078],\n '1697667668.1836238': [0.03021229625783431,\n  0.9697877037421497,\n  1.0720430078727923,\n  0.08835145990344,\n  0.04647094007862254,\n  0.5259712677587928,\n  0.7616200781323521,\n  1697667668.1836238],\n '1697668358.011991': [0.030210816828166034,\n  0.9697891831718172,\n  1.0720430078727923,\n  0.08843370248016,\n  0.046514251877224876,\n  0.5259712677587928,\n  0.7616200781323521,\n  1697668358.011991],\n '1697669034.510495': [0.03020937793153138,\n  0.9697906220684559,\n  1.0720430078727923,\n  0.08851594505688,\n  0.046557563826562315,\n  0.5259712677587928,\n  0.7616200781323521,\n  1697669034.510495],\n '1697669741.4993792': [0.030207865054947526,\n  0.96979213494503,\n  1.0720430078727923,\n  0.088599630500208,\n  0.04660239565087612,\n  0.5259712677587928,\n  0.7616200781323521,\n  1697669741.4993792],\n '1697670875.0051286': [0.030205440109381698,\n  0.9697945598906017,\n  1.0720430078727923,\n  0.088736701440384,\n  0.04667382295980454,\n  0.5259712677587928,\n  0.7616200781323521,\n  1697670875.0051286],\n '1697671568.33699': [0.03020395325149536,\n  0.9697960467484897,\n  1.0720430078727923,\n  0.088820386883712,\n  0.046717895343133566,\n  0.5259712677587928,\n  0.7616200781323521,\n  1697671568.33699],\n '1697672282.400779': [0.030202430790820592,\n  0.9697975692091646,\n  1.0720430078727923,\n  0.088904072295504,\n  0.04676196786662853,\n  0.5259712677587928,\n  0.7616200781323521,\n  1697672282.400779],\n '1697672963.879315': [0.03020097343868798,\n  0.9697990265612976,\n  1.0720430078727923,\n  0.088987757738832,\n  0.04680604056361195,\n  0.5259712677587928,\n  0.7616200781323521,\n  1697672963.879315],\n '1697673637.727899': [0.030199533208037713,\n  0.9698004667919472,\n  1.0720430078727923,\n  0.089068557448944,\n  0.04684859364656946,\n  0.5259712677587928,\n  0.7616200781323521,\n  1697673637.727899],\n '1697678460.5667248': [0.0301892249833887,\n  0.9698107750165964,\n  1.0720430078727923,\n  0.089648584054272,\n  0.047154068362199895,\n  0.5259712677587928,\n  0.7616200781323521,\n  1697678460.5667248],\n '1697680952.0944679': [0.03018389618886516,\n  0.9698161038111204,\n  1.0720430078727923,\n  0.089948697312816,\n  0.047312127906888476,\n  0.5259712677587928,\n  0.7616200781323521,\n  1697680952.0944679],\n '1697682438.5432727': [0.030208369288142172,\n  0.9697916307118432,\n  1.0721124072028756,\n  0.090127610974656,\n  0.0474063566772292,\n  0.5259712677587928,\n  0.7616200781323521,\n  1697682438.5432727],\n '1697683153.9480586': [0.03020683828696149,\n  0.9697931617130181,\n  1.0721124072028756,\n  0.090212739253056,\n  0.04745119159126293,\n  0.5259712677587928,\n  0.7616200781323521,\n  1697683153.9480586],\n '1697683872.3867304': [0.030205305843976894,\n  0.9697946941560087,\n  1.0721124072028756,\n  0.09029880806112,\n  0.04749652237003849,\n  0.525992520724159,\n  0.7629872611470561,\n  1697683872.3867304],\n '1697684550.7520845': [0.030203857562130284,\n  0.969796142437856,\n  1.0721124072028756,\n  0.090381117935664,\n  0.04753987317429995,\n  0.525992520724159,\n  0.7629872611470561,\n  1697684550.7520845],\n '1697685701.6695192': [0.03020138713497648,\n  0.9697986128650065,\n  1.0721124072028756,\n  0.090519745114368,\n  0.047612885415093495,\n  0.525992520724159,\n  0.7629872611470561,\n  1697685701.6695192],\n '1697686411.0248272': [0.030199875371175744,\n  0.9698001246288092,\n  1.0721124072028756,\n  0.090603499022352,\n  0.0476569971828904,\n  0.525992520724159,\n  0.7629872611470561,\n  1697686411.0248272],\n '1697687066.07092': [0.03019846763181702,\n  0.96980153236817,\n  1.0721124072028756,\n  0.090682920830016,\n  0.04769882745449479,\n  0.525992520724159,\n  0.7629872611470561,\n  1697687066.07092],\n '1697687808.9068754': [0.030196881714220483,\n  0.9698031182857625,\n  1.0721124072028756,\n  0.09077245087176,\n  0.04774598175366114,\n  0.525992520724159,\n  0.7629872611470561,\n  1697687808.9068754],\n '1697689144.6855333': [0.030194026062561517,\n  0.9698059739374234,\n  1.0721124072028756,\n  0.090932738520528,\n  0.04783040361448813,\n  0.525992520724159,\n  0.7629872611470561,\n  1697689144.6855333],\n '1697689953.1216228': [0.030192295625928612,\n  0.9698077043740567,\n  1.0721124072028756,\n  0.091030932762912,\n  0.04788212180545626,\n  0.525992520724159,\n  0.7629872611470561,\n  1697689953.1216228],\n '1697690636.5008762': [0.03019083332922996,\n  0.9698091666707523,\n  1.0721124072028756,\n  0.091113242637456,\n  0.047925473986055414,\n  0.525992520724159,\n  0.7629872611470561,\n  1697690636.5008762],\n '1697691329.8333912': [0.030189349145060013,\n  0.9698106508549247,\n  1.0721124072028756,\n  0.091195552512,\n  0.04796882632208586,\n  0.525992520724159,\n  0.7629872611470561,\n  1697691329.8333912],\n '1697692418.2639353': [0.03018702054824829,\n  0.9698129794517357,\n  1.0721124072028756,\n  0.091326959523504,\n  0.048038038278671265,\n  0.525992520724159,\n  0.7629872611470561,\n  1697692418.2639353],\n '1697693339.0109568': [0.03018505044959627,\n  0.9698149495503846,\n  1.0721124072028756,\n  0.091438150066848,\n  0.048096602549514623,\n  0.525992520724159,\n  0.7629872611470561,\n  1697693339.0109568],\n '1697694026.7374926': [0.03018357641653624,\n  0.9698164235834489,\n  1.0721124072028756,\n  0.091520459941392,\n  0.04813995550046161,\n  0.525992520724159,\n  0.7629872611470561,\n  1697694026.7374926],\n '1697694712.9203262': [0.030182108019560165,\n  0.9698178919804228,\n  1.0721124072028756,\n  0.091619693389584,\n  0.048756246292866914,\n  0.5321585079282372,\n  0.1594908917113118,\n  1697694712.9203262],\n '1697695880.7053466': [0.030152811999671836,\n  0.9698471880003122,\n  1.0720450998412552,\n  0.091792992508128,\n  0.04884856833599286,\n  0.5321585079282372,\n  0.1594908917113118,\n  1697695880.7053466],\n '1697697057.4060063': [0.03015029195342581,\n  0.9698497080465598,\n  1.0720450998412552,\n  0.091968078204144,\n  0.0489418427187684,\n  0.5321585079282372,\n  0.1594908917113118,\n  1697697057.4060063],\n '1697697777.80195': [0.030148758982291846,\n  0.96985124101769,\n  1.0720450998412552,\n  0.09207527351472,\n  0.0489989497607975,\n  0.5321585079282372,\n  0.1594908917113118,\n  1697697777.80195],\n '1697698480.130529': [0.030147257177057775,\n  0.9698527428228899,\n  1.0720450998412552,\n  0.092178895670352,\n  0.0490541534520105,\n  0.5321585079282372,\n  0.1594908917113118,\n  1697698480.130529],\n '1697699489.6757243': [0.0301450914801628,\n  0.9698549085198256,\n  1.0720450998412552,\n  0.092330755701552,\n  0.049135055765706405,\n  0.5321585079282372,\n  0.1594908917113118,\n  1697699489.6757243],\n '1697700229.3492293': [0.030143518088049114,\n  0.9698564819119382,\n  1.0720450998412552,\n  0.092414953037232,\n  0.04643147857135363,\n  0.5024237072323771,\n  0.248203487838384,\n  1697700229.3492293],\n '1697700970.7531133': [0.03014192913364468,\n  0.9698580708663336,\n  1.0720450998412552,\n  0.092423301373296,\n  0.046435736069688094,\n  0.5024237072323771,\n  0.248203487838384,\n  1697700970.7531133],\n '1697701644.21541': [0.030140489186432976,\n  0.9698595108135487,\n  1.0720450998412552,\n  0.092430841820112,\n  0.046439581573924596,\n  0.5024237072323771,\n  0.248203487838384,\n  1697701644.21541],\n '1697702340.0621645': [0.03013900362971035,\n  0.9698609963702668,\n  1.0720450998412552,\n  0.092438651552832,\n  0.046443564424400376,\n  0.5024237072323771,\n  0.248203487838384,\n  1697702340.0621645],\n '1697703891.0934625': [0.030135681659038162,\n  0.9698643183409379,\n  1.0720450998412552,\n  0.09245615617728,\n  0.046452491583164855,\n  0.5024237072323771,\n  0.248203487838384,\n  1697703891.0934625],\n '1697704675.619242': [0.030134007889656644,\n  0.9698659921103253,\n  1.0720450998412552,\n  0.092443003394688,\n  0.04463246680077478,\n  0.4828104359433457,\n  0.067593461007168,\n  1697704675.619242],\n '1697705365.9180872': [0.03013253534555069,\n  0.9698674646544353,\n  1.0720450998412552,\n  0.0923885696412,\n  0.04460624263928476,\n  0.4828104359433457,\n  0.067593461007168,\n  1697705365.9180872],\n '1697706069.7147136': [0.030131027274204077,\n  0.9698689727257793,\n  1.0720450998412552,\n  0.092332225909872,\n  0.04457909821525289,\n  0.4828104359433457,\n  0.067593461007168,\n  1697706069.7147136],\n '1697707259.245094': [0.030128475703042293,\n  0.9698715242969427,\n  1.072045071742798,\n  0.092237683031712,\n  0.044533550546193866,\n  0.4828104359433457,\n  0.067593461007168,\n  1697707259.245094],\n '1697707986.018574': [0.030126921473756337,\n  0.9698730785262266,\n  1.072045071742798,\n  0.092180384327232,\n  0.04450594575520878,\n  0.4828104359433457,\n  0.067593461007168,\n  1697707986.018574],\n '1697708663.6119087': [0.030125473793638117,\n  0.9698745262063498,\n  1.072045071742798,\n  0.092125950573744,\n  0.044479721108223,\n  0.4828104359433457,\n  0.067593461007168,\n  1697708663.6119087],\n '1697709346.0798628': [0.03012400619817753,\n  0.969875993801804,\n  1.072045071742798,\n  0.09207151678872,\n  0.04445349634555372,\n  0.4828104359433457,\n  0.067593461007168,\n  1697709346.0798628],\n '1697710537.2852979': [0.03012146369264549,\n  0.9698785363073418,\n  1.072045071742798,\n  0.09197697391056,\n  0.04440794784057375,\n  0.4828104359433457,\n  0.067593461007168,\n  1697710537.2852979],\n '1697711578.0192344': [0.030119237834907636,\n  0.9698807621650775,\n  1.072045071742798,\n  0.091893890804832,\n  0.04436792013102754,\n  0.4828104359433457,\n  0.067593461007168,\n  1697711578.0192344],\n '1697712249.6805031': [0.030117797808867888,\n  0.9698822021911166,\n  1.072045071742798,\n  0.091840412024496,\n  0.04434215504523244,\n  0.4828104359433457,\n  0.067593461007168,\n  1697712249.6805031],\n '1697712980.0994983': [0.030116240841242172,\n  0.9698837591587419,\n  1.072045071742798,\n  0.091782158315328,\n  0.044314089377138544,\n  0.4828104359433457,\n  0.067593461007168,\n  1697712980.0994983],\n '1697714012.434861': [0.030114033543811893,\n  0.96988596645617,\n  1.072045071742798,\n  0.091700030182752,\n  0.044274521214322154,\n  0.4828104359433457,\n  0.067593461007168,\n  1697714012.434861],\n '1697714681.0532422': [0.030112605498377614,\n  0.9698873945016103,\n  1.072045071742798,\n  0.091647506375568,\n  0.044249215873858286,\n  0.4828104359433457,\n  0.067593461007168,\n  1697714681.0532422],\n '1697715385.4471571': [0.030111093848831823,\n  0.9698889061511526,\n  1.072045071742798,\n  0.091600236686736,\n  0.0453542549583654,\n  0.49513236733040633,\n  0.069318531421632,\n  1697715385.4471571],\n '1697716079.827582': [0.030109612500511546,\n  0.9698903874994719,\n  1.072045071742798,\n  0.091584552036384,\n  0.04534654660366131,\n  0.49513236733040633,\n  0.069318531421632,\n  1697716079.827582],\n '1697716796.9370131': [0.029999622857593264,\n  0.9700003771423908,\n  1.071772318229522,\n  0.091568326575168,\n  0.045338572431893424,\n  0.49513236733040633,\n  0.069318531421632,\n  1697716796.9370131],\n '1697719142.5742154': [0.029928975137584225,\n  0.9700710248624007,\n  1.071607231095643,\n  0.09151559371584,\n  0.04531265610054969,\n  0.49513236733040633,\n  0.069318531421632,\n  1697719142.5742154],\n '1697720417.6905446': [0.029926258167323805,\n  0.9700737418326605,\n  1.071607231095643,\n  0.091486658269008,\n  0.045298435212156984,\n  0.49513236733040633,\n  0.069318531421632,\n  1697720417.6905446],\n '1697722119.3319488': [0.03623451314918053,\n  0.9637654868508021,\n  1.0876510348326034,\n  0.091448528375232,\n  0.04527969538038268,\n  0.49513236733040633,\n  0.069318531421632,\n  1697722119.3319488],\n '1697722821.533913': [0.03567005493591572,\n  0.9643299450640648,\n  1.0862068051531097,\n  0.09143257330368,\n  0.04527185383394715,\n  0.49513236733040633,\n  0.069318531421632,\n  1697722821.533913],\n '1697723525.5373402': [0.035668280372227454,\n  0.9643317196277543,\n  1.0862068051531097,\n  0.091416618263664,\n  0.04526401227258259,\n  0.49513236733040633,\n  0.069318531421632,\n  1697723525.5373402],\n '1697724541.103133': [0.03563227273368506,\n  0.9643677272662974,\n  1.0861210442069236,\n  0.091393902567504,\n  0.0452528479402754,\n  0.49513236733040633,\n  0.069318531421632,\n  1697724541.103133],\n '1697725704.4165316': [0.03562933575693934,\n  0.9643706642430431,\n  1.0861210442069236,\n  0.091367671364208,\n  0.045239955726193014,\n  0.49513236733040633,\n  0.069318531421632,\n  1697725704.4165316],\n '1697726415.7936606': [0.0354707592440238,\n  0.9645292407559595,\n  1.0857190507504024,\n  0.091351716292656,\n  0.04523211402502256,\n  0.49513236733040633,\n  0.069318531421632,\n  1697726415.7936606],\n '1697727128.942335': [0.035468969931074054,\n  0.964531030068905,\n  1.0857190507504024,\n  0.09133549083144,\n  0.045224139399833094,\n  0.49513236733040633,\n  0.069318531421632,\n  1697727128.942335],\n '1697728128.3927486': [0.035456535196178404,\n  0.9645434648038025,\n  1.0856936238165913,\n  0.091314935698176,\n  0.045552147927181735,\n  0.4988465430538492,\n  0.06983851600584,\n  1697728128.3927486],\n '1697729124.458959': [0.03545403639831215,\n  0.9645459636016748,\n  1.0856936238165913,\n  0.09130961696256,\n  0.04554957690795021,\n  0.4988465430538492,\n  0.06983851600584,\n  1697729124.458959],\n '1697729869.0757768': [0.03545215580357933,\n  0.9645478441964046,\n  1.0856936238165913,\n  0.091305643931136,\n  0.045547656378231535,\n  0.4988465430538492,\n  0.06983851600584,\n  1697729869.0757768],\n '1697730531.02943': [0.03545049390744759,\n  0.9645495060925374,\n  1.0856936238165913,\n  0.091302119467776,\n  0.04554595267583611,\n  0.4988465430538492,\n  0.06983851600584,\n  1697730531.02943],\n '1697731211.6658738': [0.03431687380782716,\n  0.9656831261921576,\n  1.082796840396552,\n  0.091298466842112,\n  0.045544187014002244,\n  0.4988465430538492,\n  0.06983851600584,\n  1697731211.6658738],\n '1697732786.2626872': [0.0343130411459772,\n  0.9656869588540091,\n  1.082796840396552,\n  0.0912900722112,\n  0.04554012906388401,\n  0.4988465430538492,\n  0.06983851600584,\n  1697732786.2626872],\n '1697733625.6006417': [0.034310998274564596,\n  0.965689001725418,\n  1.082796840396552,\n  0.09128558653056,\n  0.045537960678994405,\n  0.4988465430538492,\n  0.06983851600584,\n  1697733625.6006417],\n '1697734316.3255482': [0.034309316818051924,\n  0.9656906831819347,\n  1.082796840396552,\n  0.091281869823744,\n  0.045536164009526904,\n  0.4988465430538492,\n  0.06983851600584,\n  1697734316.3255482],\n '1697735280.927299': [0.03430696836066731,\n  0.965693031639316,\n  1.082796840396552,\n  0.091276743331584,\n  0.04553368583329153,\n  0.4988465430538492,\n  0.06983851600584,\n  1697735280.927299],\n '1697736386.12848': [0.034304278662208476,\n  0.9656957213377753,\n  1.082796840396552,\n  0.0912708478656,\n  0.04553083591420631,\n  0.4988465430538492,\n  0.06983851600584,\n  1697736386.12848],\n '1697737136.4782817': [0.03430246062600238,\n  0.9656975393739811,\n  1.082796840396552,\n  0.091266810753024,\n  0.04552888432905167,\n  0.4988465430538492,\n  0.06983851600584,\n  1697737136.4782817],\n '1697737792.2892563': [0.034300855057001846,\n  0.9656991449429806,\n  1.082796840396552,\n  0.091263286289664,\n  0.045527180557502614,\n  0.4988465430538492,\n  0.06983851600584,\n  1697737792.2892563],\n '1697738524.5508635': [0.0342990770144557,\n  0.9657009229855291,\n  1.082796840396552,\n  0.091259377339392,\n  0.045525290912627366,\n  0.4988465430538492,\n  0.06983851600584,\n  1697738524.5508635],\n '1697740041.2302272': [0.034295385561268044,\n  0.9657046144387079,\n  1.082796840396552,\n  0.091251303145776,\n  0.04552138770303299,\n  0.4988465430538492,\n  0.06983851600584,\n  1697740041.2302272],\n '1697740791.4041486': [0.03426073762956762,\n  0.965739262370415,\n  1.0827129650203289,\n  0.0912472660332,\n  0.04551943607802163,\n  0.4988465430538492,\n  0.06983851600584,\n  1697740791.4041486],\n '1697741478.7746983': [0.0342590654938352,\n  0.965740934506149,\n  1.0827129650203289,\n  0.091243613407536,\n  0.045517670314965904,\n  0.4988465430538492,\n  0.06983851600584,\n  1697741478.7746983],\n '1697742291.4088788': [0.03425709404200843,\n  0.9657429059579774,\n  1.0827129650203289,\n  0.091239319970352,\n  0.04551559476030296,\n  0.4988465430538492,\n  0.06983851600584,\n  1697742291.4088788],\n '1697743088.4260924': [0.0342551558133645,\n  0.9657448441866181,\n  1.0827129650203289,\n  0.091235026533168,\n  0.04551351919633067,\n  0.4988465430538492,\n  0.06983851600584,\n  1697743088.4260924],\n '1697743772.1051228': [0.0342534971496227,\n  0.965746502850364,\n  1.0827129650203289,\n  0.091231373907504,\n  0.045511753410697346,\n  0.4988465430538492,\n  0.06983851600584,\n  1697743772.1051228],\n '1697744472.7483692': [0.034251783855300685,\n  0.9657482161446822,\n  1.0827129650203289,\n  0.091227657200688,\n  0.04550995663945312,\n  0.4988465430538492,\n  0.06983851600584,\n  1697744472.7483692],\n '1697745169.2798529': [0.034250090236372356,\n  0.9657499097636096,\n  1.0827129650203289,\n  0.091223940493872,\n  0.045508159861233466,\n  0.4988465430538492,\n  0.06983851600584,\n  1697745169.2798529],\n '1697746219.6234732': [0.03424754588836014,\n  0.9657524541116246,\n  1.0827129650203289,\n  0.091218301352496,\n  0.045505433701649264,\n  0.4988465430538492,\n  0.06983851600584,\n  1697746219.6234732],\n '1697747132.1476715': [0.034245321755255055,\n  0.9657546782447306,\n  1.0827129650203289,\n  0.091213431184944,\n  0.04550307927817814,\n  0.4988465430538492,\n  0.06983851600584,\n  1697747132.1476715],\n '1697747887.4886858': [0.03424348989950354,\n  0.9657565101004787,\n  1.0827129650203289,\n  0.091209394072368,\n  0.04550112757595991,\n  0.4988465430538492,\n  0.06983851600584,\n  1697747887.4886858],\n '1697748546.152469': [0.03424187776172395,\n  0.9657581222382616,\n  1.0827129650203289,\n  0.091205869609008,\n  0.04549942370221661,\n  0.4988465430538492,\n  0.06983851600584,\n  1697748546.152469],\n '1697749260.6086364': [0.03390779714274585,\n  0.9660922028572337,\n  1.0818635573617172,\n  0.09120208882104,\n  0.04549759590341116,\n  0.4988465430538492,\n  0.06983851600584,\n  1697749260.6086364],\n '1697750225.5815516': [0.03390546708670242,\n  0.9660945329132808,\n  1.0818635573617172,\n  0.091196898247728,\n  0.045495086540754986,\n  0.4988465430538492,\n  0.06983851600584,\n  1697750225.5815516],\n '1697750923.542816': [0.03390378509627653,\n  0.9660962149037085,\n  1.0818635573617172,\n  0.091193181540912,\n  0.04549328970481824,\n  0.4988465430538492,\n  0.06983851600584,\n  1697750923.542816],\n '1697751605.9846733': [0.033902141246469154,\n  0.9660978587535152,\n  1.0818635573617172,\n  0.091189528946784,\n  0.04549152385775017,\n  0.4988465430538492,\n  0.06983851600584,\n  1697751605.9846733],\n '1697752314.9217372': [0.03403755695190101,\n  0.9659624430480769,\n  1.0822139594500615,\n  0.091185748158816,\n  0.045489696027758764,\n  0.4988465430538492,\n  0.06983851600584,\n  1697752314.9217372],\n '1697753177.7579873': [0.03403546563288161,\n  0.9659645343671004,\n  1.0822139594500615,\n  0.091181134315872,\n  0.045487465445791395,\n  0.4988465430538492,\n  0.06983851600584,\n  1697753177.7579873],\n '1697754337.21272': [0.03397852772578944,\n  0.9660214722741967,\n  1.0820755832611146,\n  0.09117498252528,\n  0.045484491319788864,\n  0.4988465430538492,\n  0.06983851600584,\n  1697754337.21272],\n '1697755047.5104957': [0.03397681216466458,\n  0.9660231878353208,\n  1.0820755832611146,\n  0.09117113765616,\n  0.04548263248133844,\n  0.4988465430538492,\n  0.06983851600584,\n  1697755047.5104957],\n '1697755769.0422866': [0.033975077502025,\n  0.9660249224979587,\n  1.0820755832611146,\n  0.091167356868192,\n  0.04548080461625406,\n  0.4988465430538492,\n  0.06983851600584,\n  1697755769.0422866],\n '1697756414.9946735': [0.033973510466636964,\n  0.9660264895333461,\n  1.0820755832611146,\n  0.091163832404832,\n  0.045479100667729845,\n  0.4988465430538492,\n  0.06983851600584,\n  1697756414.9946735],\n '1697757589.6522293': [0.033970673469505226,\n  0.9660293265304744,\n  1.0820755832611146,\n  0.091157616533088,\n  0.04547609550687513,\n  0.4988465430538492,\n  0.06983851600584,\n  1697757589.6522293],\n '1697758279.23848': [0.03396900924038207,\n  0.9660309907596023,\n  1.0820755832611146,\n  0.091153899826272,\n  0.04547429859725654,\n  0.4988465430538492,\n  0.06983851600584,\n  1697758279.23848],\n '1697758970.7725463': [0.033967346462098105,\n  0.9660326535378863,\n  1.0820755832611146,\n  0.091150247200608,\n  0.045472532662047566,\n  0.4988465430538492,\n  0.06983851600584,\n  1697758970.7725463],\n '1697759664.9758039': [0.03396566702532487,\n  0.9660343329746583,\n  1.0820755832611146,\n  0.091146530493792,\n  0.04547073573860957,\n  0.4988465430538492,\n  0.06983851600584,\n  1697759664.9758039],\n '1697763073.0052845': [0.03373082303745424,\n  0.9662691769625303,\n  1.0814962287488594,\n  0.09112833147816,\n  0.04546193692517638,\n  0.4988465430538492,\n  0.06983851600584,\n  1697763073.0052845],\n '1697766124.8042598': [0.03372349495798182,\n  0.9662765050419946,\n  1.0814962287488594,\n  0.0911119907844,\n  0.04545403642565383,\n  0.4988465430538492,\n  0.06983851600584,\n  1697766124.8042598],\n '1697768082.5053601': [0.03371880262941546,\n  0.9662811973705665,\n  1.0814962287488594,\n  0.091101545556624,\n  0.045448986231875904,\n  0.4988465430538492,\n  0.06983851600584,\n  1697768082.5053601],\n '1697769121.3405776': [0.03371631073965147,\n  0.9662836892603297,\n  1.0814962287488594,\n  0.091096034577552,\n  0.0454463216902874,\n  0.4988465430538492,\n  0.06983851600584,\n  1697769121.3405776],\n '1697769789.033386': [0.03371471262689899,\n  0.9662852873730763,\n  1.0814962287488594,\n  0.09109244603304,\n  0.04544458663171782,\n  0.4988465430538492,\n  0.06983851600584,\n  1697769789.033386],\n '1697770509.587003': [0.03371297999706338,\n  0.9662870200029183,\n  1.0814962287488594,\n  0.09108860116392,\n  0.04544272763318776,\n  0.4988465430538492,\n  0.06983851600584,\n  1697770509.587003],\n '1697771617.7737439': [0.033710317341839394,\n  0.9662896826581452,\n  1.0814962287488594,\n  0.091100732211648,\n  0.046131461708362714,\n  0.506378147958128,\n  0.498960714851136,\n  1697771617.7737439],\n '1697772373.9277833': [0.03370851202837055,\n  0.966291487971614,\n  1.0814962287488594,\n  0.091123055789184,\n  0.04614282839861233,\n  0.506378147958128,\n  0.498960714851136,\n  1697772373.9277833],\n '1697773086.8381052': [0.033706797892248896,\n  0.9662932021077354,\n  1.0814962287488594,\n  0.091144316351232,\n  0.04615365386672248,\n  0.506378147958128,\n  0.498960714851136,\n  1697773086.8381052],\n '1697773803.5576463': [0.03370507793444857,\n  0.9662949220655336,\n  1.0814962287488594,\n  0.091165222543248,\n  0.04616429893719593,\n  0.506378147958128,\n  0.498960714851136,\n  1697773803.5576463],\n '1697774475.238232': [0.033703467248209204,\n  0.9662965327517747,\n  1.0814962287488594,\n  0.091185065719776,\n  0.04617440277589809,\n  0.506378147958128,\n  0.498960714851136,\n  1697774475.238232],\n '1697775864.3327007': [0.033700129911043604,\n  0.9662998700889427,\n  1.0814962287488594,\n  0.091226169458352,\n  0.04619533227969193,\n  0.506378147958128,\n  0.498960714851136,\n  1697775864.3327007],\n '1697776621.1456513': [0.03369831795420215,\n  0.9663016820457792,\n  1.0814962287488594,\n  0.091248493035888,\n  0.046206699228413445,\n  0.506378147958128,\n  0.498960714851136,\n  1697776621.1456513],\n '1697777314.7049117': [0.03369665358371612,\n  0.9663033464162682,\n  1.0814962287488594,\n  0.091269044920944,\n  0.04621716408918759,\n  0.506378147958128,\n  0.498960714851136,\n  1697777314.7049117],\n '1697778024.9439113': [0.03369495352132438,\n  0.9663050464786554,\n  1.0814962287488594,\n  0.09128995111296,\n  0.046227809400467015,\n  0.506378147958128,\n  0.498960714851136,\n  1697778024.9439113],\n '1697779193.9755974': [0.03369215142150623,\n  0.9663078485784787,\n  1.0814962287488594,\n  0.091324676695536,\n  0.04624549155413186,\n  0.506378147958128,\n  0.498960714851136,\n  1697779193.9755974],\n '1697779870.4935815': [0.033690526343685495,\n  0.9663094736562977,\n  1.0814962287488594,\n  0.091344519872064,\n  0.046255595685150606,\n  0.506378147958128,\n  0.498960714851136,\n  1697779870.4935815],\n '1697780561.1324067': [0.03368886704054512,\n  0.9663111329594414,\n  1.0814962287488594,\n  0.091364717387088,\n  0.04626588028247846,\n  0.506378147958128,\n  0.498960714851136,\n  1697780561.1324067],\n '1697781259.799937': [0.03368719089688488,\n  0.9663128091031008,\n  1.0814962287488594,\n  0.09138562361064,\n  0.046276525794660336,\n  0.506378147958128,\n  0.498960714851136,\n  1697781259.799937],\n '1697782553.0236475': [0.033684083240092574,\n  0.9663159167598824,\n  1.0814962287488594,\n  0.091423892609712,\n  0.04629601258940471,\n  0.506378147958128,\n  0.498960714851136,\n  1697782553.0236475],\n '1697783579.6801116': [0.03368162024480635,\n  0.9663183797551775,\n  1.0814962287488594,\n  0.091454011728768,\n  0.04631134951362783,\n  0.506378147958128,\n  0.498960714851136,\n  1697783579.6801116],\n '1697784282.4632971': [0.03367716432013973,\n  0.9663228356798472,\n  1.0814891149643997,\n  0.091487141558208,\n  0.04713259852487181,\n  0.5151824786304086,\n  0.06146303808089604,\n  1697784282.4632971],\n '1697784978.4012556': [0.033675485332665483,\n  0.9663245146673197,\n  1.0814891149643997,\n  0.091536906501504,\n  0.04715829601663334,\n  0.5151824786304086,\n  0.06146303808089604,\n  1697784978.4012556],\n '1697786098.7213166': [0.0338936309030246,\n  0.9661063690969537,\n  1.0820545702677662,\n  0.091615349526336,\n  0.047198802418429456,\n  0.5151824786304086,\n  0.06146303808089604,\n  1697786098.7213166],\n '1697786776.655974': [0.03389199443693946,\n  0.9661080055630455,\n  1.0820545702677662,\n  0.091663427482848,\n  0.04722362902834944,\n  0.5151824786304086,\n  0.06146303808089604,\n  1697786776.655974]}"
     },
     "execution_count": 5,
     "metadata": {},
     "output_type": "execute_result"
    }
   ],
   "source": [
    "tmpDict"
   ],
   "metadata": {
    "collapsed": false,
    "ExecuteTime": {
     "start_time": "2023-10-20T03:31:04.355834Z",
     "end_time": "2023-10-20T03:31:04.401699Z"
    }
   }
  },
  {
   "cell_type": "code",
   "execution_count": 10,
   "outputs": [
    {
     "data": {
      "text/plain": "1697788523"
     },
     "execution_count": 10,
     "metadata": {},
     "output_type": "execute_result"
    }
   ],
   "source": [
    "w3.eth.get_block('latest')['timestamp']"
   ],
   "metadata": {
    "collapsed": false,
    "ExecuteTime": {
     "start_time": "2023-10-20T03:55:31.099416Z",
     "end_time": "2023-10-20T03:55:31.186569Z"
    }
   }
  },
  {
   "cell_type": "code",
   "execution_count": 11,
   "outputs": [
    {
     "name": "stdout",
     "output_type": "stream",
     "text": [
      "604800\n"
     ]
    }
   ],
   "source": [
    "print(60*60*24*7\n",
    "      )"
   ],
   "metadata": {
    "collapsed": false,
    "ExecuteTime": {
     "start_time": "2023-10-20T04:21:33.143993Z",
     "end_time": "2023-10-20T04:21:33.250658Z"
    }
   }
  },
  {
   "cell_type": "code",
   "execution_count": 12,
   "outputs": [
    {
     "data": {
      "text/plain": "1697183723"
     },
     "execution_count": 12,
     "metadata": {},
     "output_type": "execute_result"
    }
   ],
   "source": [
    "1697788523 - 604800"
   ],
   "metadata": {
    "collapsed": false,
    "ExecuteTime": {
     "start_time": "2023-10-20T04:21:46.202036Z",
     "end_time": "2023-10-20T04:21:46.345286Z"
    }
   }
  },
  {
   "cell_type": "code",
   "execution_count": null,
   "outputs": [],
   "source": [],
   "metadata": {
    "collapsed": false
   }
  }
 ],
 "metadata": {
  "kernelspec": {
   "display_name": "Python 3",
   "language": "python",
   "name": "python3"
  },
  "language_info": {
   "codemirror_mode": {
    "name": "ipython",
    "version": 2
   },
   "file_extension": ".py",
   "mimetype": "text/x-python",
   "name": "python",
   "nbconvert_exporter": "python",
   "pygments_lexer": "ipython2",
   "version": "2.7.6"
  }
 },
 "nbformat": 4,
 "nbformat_minor": 0
}
