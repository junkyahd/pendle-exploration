{
 "cells": [
  {
   "cell_type": "code",
   "execution_count": 8,
   "metadata": {
    "collapsed": true,
    "ExecuteTime": {
     "start_time": "2023-10-20T06:30:08.420762Z",
     "end_time": "2023-10-20T06:30:08.449152Z"
    }
   },
   "outputs": [],
   "source": [
    "import math\n",
    "from web3 import Web3, AsyncWeb3\n",
    "from web3 import eth\n",
    "import abi as abi_import\n",
    "import time\n",
    "import datetime\n",
    "from datetime import timedelta, date, datetime, time\n",
    "import requests"
   ]
  },
  {
   "cell_type": "code",
   "execution_count": 34,
   "outputs": [
    {
     "name": "stdout",
     "output_type": "stream",
     "text": [
      "2023-10-20 10:00:00\n",
      "2023-10-10 10:00:00\n",
      "10:50:02\n"
     ]
    }
   ],
   "source": [
    "curr = datetime.utcnow()\n",
    "ts = str(curr.year) + '-' + str(curr.month) + '-' + str(curr.day) + \" \" + str(curr.hour) + \":00:00\"\n",
    "\n",
    "delta = timedelta(days=10)\n",
    "\n",
    "curr_minusTen = datetime.utcnow() - delta\n",
    "\n",
    "ts_back = str(curr_minusTen.year) + '-' + str(curr_minusTen.month) + '-' + str(curr_minusTen.day) + \" \" + str(curr_minusTen.hour) + \":00:00\"\n",
    "print(ts)\n",
    "print(ts_back)\n",
    "\n",
    "print(time(curr_minusTen.hour, curr_minusTen.minute, curr_minusTen.second, 0))"
   ],
   "metadata": {
    "collapsed": false,
    "ExecuteTime": {
     "start_time": "2023-10-20T06:50:02.544214Z",
     "end_time": "2023-10-20T06:50:02.557796Z"
    }
   }
  },
  {
   "cell_type": "code",
   "execution_count": 60,
   "outputs": [
    {
     "name": "stdout",
     "output_type": "stream",
     "text": [
      "https://api-v2.pendle.finance/core/v2/1/markets/0xc9becdbc62efb867cb52222b34c187fb170379c6/history\n",
      "225\n"
     ]
    }
   ],
   "source": [
    "addr = '0xc9becdbc62efb867cb52222b34c187fb170379c6'\n",
    "\n",
    "def hour_rounder(t):\n",
    "    # Rounds to nearest hour by adding a timedelta hour if minute >= 30\n",
    "    return (t.replace(second=0, microsecond=0, minute=0, hour=t.hour)\n",
    "               +timedelta(hours=t.minute//30))\n",
    "\n",
    "# s = hour_rounder(curr).isoformat() + \".000Z\"\n",
    "# e = hour_rounder(curr_minusTen).isoformat() + \".000Z\"\n",
    "\n",
    "s =  datetime.now()\n",
    "e = datetime.now() - timedelta(days=1)\n",
    "\n",
    "s = s.replace(hour=0,minute=0,second=0,microsecond=0)\n",
    "e = e.replace(hour=0,minute=0,second=0,microsecond=0)\n",
    "\n",
    "\n",
    "payload = {'time_frame': 'hour', 'timestamp_start': s, 'timestamp_end': e}\n",
    "\n",
    "u = 'https://api-v2.pendle.finance/core/v2/1/markets/' + addr + '/history'\n",
    "print(u)\n",
    "\n",
    "u1 = 'https://api-v2.pendle.finance/core/v2/1/markets/0xc9becdbc62efb867cb52222b34c187fb170379c6/history?time_frame=hour&timestamp_start=2023-10-20&timestamp_end=2023-10-15'\n",
    "\n",
    "\n",
    "r = requests.get(u)\n",
    "res = r.json()['results'] # timestamp,  'underlyingInterestApy', 'underlyingRewardApy', 'underlyingApy',\n",
    "                        # 'impliedApy','ytFloatingApy' ,'ptDiscount'\n",
    "\n",
    "\n",
    "ts_lst = []\n",
    "underlyingInterestAPY_lst = []\n",
    "underlyingRewardAPY_lst = []\n",
    "underlyingAPY_lst = []\n",
    "impliedAPY_lst = []\n",
    "longYieldAPY = []\n",
    "ptPrice = []\n",
    "ytPrice = []\n",
    "\n",
    "print(len(res))\n",
    "\n",
    "for i in range(0, len(res)):\n",
    "    ts_lst.append(res[i]['timestamp'])\n",
    "    underlyingInterestAPY_lst.append(res[i]['underlyingInterestApy'])\n",
    "    underlyingRewardAPY_lst.append(res[i]['underlyingRewardApy'])\n",
    "    underlyingAPY_lst.append(res[i]['underlyingApy'])\n",
    "    impliedAPY_lst.append(res[i]['impliedApy'])\n",
    "    longYieldAPY.append(res[i]['ytFloatingApy'])\n",
    "    ytPrice.append(res[i]['ptDiscount'])\n",
    "    ptPrice.append(1.0 - res[i]['ptDiscount'])\n",
    "\n",
    "\n"
   ],
   "metadata": {
    "collapsed": false,
    "ExecuteTime": {
     "start_time": "2023-10-20T07:34:09.353191Z",
     "end_time": "2023-10-20T07:34:09.917267Z"
    }
   }
  },
  {
   "cell_type": "code",
   "execution_count": 69,
   "outputs": [],
   "source": [
    "import pickle\n",
    "\n",
    "with open('pendleData.pkl', 'rb') as fp:\n",
    "    tmpDict = pickle.load(fp)\n",
    "\n",
    "util_ts = []\n",
    "crvUtil = []\n",
    "\n",
    "for j in tmpDict.keys():\n",
    "    util_ts.append(datetime.fromtimestamp(tmpDict[j][7]))\n",
    "    crvUtil.append(tmpDict[j][5])\n",
    "\n"
   ],
   "metadata": {
    "collapsed": false,
    "ExecuteTime": {
     "start_time": "2023-10-20T07:39:16.361238Z",
     "end_time": "2023-10-20T07:39:16.364743Z"
    }
   }
  },
  {
   "cell_type": "code",
   "execution_count": null,
   "outputs": [],
   "source": [
    "print()"
   ],
   "metadata": {
    "collapsed": false
   }
  }
 ],
 "metadata": {
  "kernelspec": {
   "display_name": "Python 3",
   "language": "python",
   "name": "python3"
  },
  "language_info": {
   "codemirror_mode": {
    "name": "ipython",
    "version": 2
   },
   "file_extension": ".py",
   "mimetype": "text/x-python",
   "name": "python",
   "nbconvert_exporter": "python",
   "pygments_lexer": "ipython2",
   "version": "2.7.6"
  }
 },
 "nbformat": 4,
 "nbformat_minor": 0
}
